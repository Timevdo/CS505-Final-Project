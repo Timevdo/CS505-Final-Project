{
 "cells": [
  {
   "cell_type": "code",
   "execution_count": 1,
   "metadata": {},
   "outputs": [],
   "source": [
    "import numpy as np\n",
    "import pandas as pd\n",
    "import json\n",
    "import re"
   ]
  },
  {
   "cell_type": "code",
   "execution_count": 2,
   "metadata": {},
   "outputs": [],
   "source": [
    "with open('data/daterangegovinfo02.json', 'r') as fl:\n",
    "    govinfo_dct = json.loads(fl.read())"
   ]
  },
  {
   "cell_type": "code",
   "execution_count": 8,
   "metadata": {},
   "outputs": [
    {
     "name": "stdout",
     "output_type": "stream",
     "text": [
      "Congressional Record, Volume 168 Issue 2 (Tuesday, January 4, 2022) From the Congressional Record Online through the Government Publishing Office Remembering Johnny Isakson Mr. THUNE. Mr. President, before I begin, I want to express my deep sorrow at the death of former Senator Johnny Isakson. I served with Johnny for a long time, not just here in the Senate, where we came in together as freshman Members in 2005, but also in the House of Representatives, and I was honored to call him my friend. Johnny was a tremendously effective legislator and, in particular, a champion for veterans and a model of decency and graciousness. When I came down to the floor to discuss his retirement 2 years ago, I read a quote from a politics professor in Georgia that I thought really captured Johnny. I think so still. Here is what that professor had to say: As a political science professor and an administrator, I'm often asked by students if good people can serve in government and keep their integrity. Johnny Isakson is always the first example I come to. It's very often a shocking revelation to most people--that good people can, and often do, serve in government for long periods, fight hard for what they believe in, and remain true to themselves and their principles. And they don't have to sell their souls to do it. It's a great lesson, really. Mr. President, that was Johnny--a good man, one of the best I have ever known. He came to Washington to serve his State and his country and served them faithfully throughout his life. My thoughts and prayers are with Johnny's wife Dianne and with his children and grandchildren.\n"
     ]
    }
   ],
   "source": [
    "text_arr = [el['transcript'] for el in govinfo_dct]\n",
    "\n",
    "clean_text_arr = []\n",
    "CLEANR = re.compile('<.*?>')\n",
    "CLEANR2 = re.compile('\\[.*?\\]')\n",
    "CLEANR3 = re.compile(\"\\s+\")\n",
    "\n",
    "for text in text_arr:\n",
    "    temp = re.sub(CLEANR, '', text)\n",
    "    temp = re.sub(CLEANR2, '', temp)\n",
    "    temp = temp.replace('\\n', ' ')\n",
    "    temp = re.sub(CLEANR3, ' ', temp).strip()\n",
    "    clean_text_arr.append(temp)\n",
    "\n",
    "text_arr = clean_text_arr.copy()\n",
    "del clean_text_arr\n",
    "print(text_arr[0])"
   ]
  },
  {
   "cell_type": "code",
   "execution_count": 14,
   "metadata": {},
   "outputs": [
    {
     "data": {
      "text/plain": [
       "'HR593'"
      ]
     },
     "execution_count": 14,
     "metadata": {},
     "output_type": "execute_result"
    }
   ],
   "source": [
    "rolldf = pd.read_csv('data/H118_rollcalls.csv')\n",
    "bills = list(set(rolldf['bill_number']))\n",
    "bills[2]"
   ]
  },
  {
   "cell_type": "code",
   "execution_count": 15,
   "metadata": {},
   "outputs": [
    {
     "data": {
      "text/html": [
       "<div>\n",
       "<style scoped>\n",
       "    .dataframe tbody tr th:only-of-type {\n",
       "        vertical-align: middle;\n",
       "    }\n",
       "\n",
       "    .dataframe tbody tr th {\n",
       "        vertical-align: top;\n",
       "    }\n",
       "\n",
       "    .dataframe thead th {\n",
       "        text-align: right;\n",
       "    }\n",
       "</style>\n",
       "<table border=\"1\" class=\"dataframe\">\n",
       "  <thead>\n",
       "    <tr style=\"text-align: right;\">\n",
       "      <th></th>\n",
       "      <th>congress</th>\n",
       "      <th>chamber</th>\n",
       "      <th>rollnumber</th>\n",
       "      <th>date</th>\n",
       "      <th>session</th>\n",
       "      <th>clerk_rollnumber</th>\n",
       "      <th>yea_count</th>\n",
       "      <th>nay_count</th>\n",
       "      <th>nominate_mid_1</th>\n",
       "      <th>nominate_mid_2</th>\n",
       "      <th>nominate_spread_1</th>\n",
       "      <th>nominate_spread_2</th>\n",
       "      <th>nominate_log_likelihood</th>\n",
       "      <th>bill_number</th>\n",
       "      <th>vote_result</th>\n",
       "      <th>vote_desc</th>\n",
       "      <th>vote_question</th>\n",
       "      <th>dtl_desc</th>\n",
       "    </tr>\n",
       "  </thead>\n",
       "  <tbody>\n",
       "    <tr>\n",
       "      <th>0</th>\n",
       "      <td>118</td>\n",
       "      <td>House</td>\n",
       "      <td>1</td>\n",
       "      <td>2023-01-03</td>\n",
       "      <td>1</td>\n",
       "      <td>2</td>\n",
       "      <td>212</td>\n",
       "      <td>222</td>\n",
       "      <td>0.023</td>\n",
       "      <td>-0.045</td>\n",
       "      <td>0.716</td>\n",
       "      <td>-0.133</td>\n",
       "      <td>-0.352</td>\n",
       "      <td>NaN</td>\n",
       "      <td>Jeffries</td>\n",
       "      <td>NaN</td>\n",
       "      <td>Election of the Speaker</td>\n",
       "      <td>NaN</td>\n",
       "    </tr>\n",
       "    <tr>\n",
       "      <th>1</th>\n",
       "      <td>118</td>\n",
       "      <td>House</td>\n",
       "      <td>2</td>\n",
       "      <td>2023-01-03</td>\n",
       "      <td>1</td>\n",
       "      <td>3</td>\n",
       "      <td>212</td>\n",
       "      <td>222</td>\n",
       "      <td>0.023</td>\n",
       "      <td>-0.045</td>\n",
       "      <td>0.716</td>\n",
       "      <td>-0.133</td>\n",
       "      <td>-0.352</td>\n",
       "      <td>NaN</td>\n",
       "      <td>Jeffries</td>\n",
       "      <td>NaN</td>\n",
       "      <td>Election of the Speaker</td>\n",
       "      <td>NaN</td>\n",
       "    </tr>\n",
       "    <tr>\n",
       "      <th>2</th>\n",
       "      <td>118</td>\n",
       "      <td>House</td>\n",
       "      <td>3</td>\n",
       "      <td>2023-01-03</td>\n",
       "      <td>1</td>\n",
       "      <td>4</td>\n",
       "      <td>212</td>\n",
       "      <td>222</td>\n",
       "      <td>0.023</td>\n",
       "      <td>-0.045</td>\n",
       "      <td>0.716</td>\n",
       "      <td>-0.133</td>\n",
       "      <td>-0.352</td>\n",
       "      <td>NaN</td>\n",
       "      <td>Jeffries</td>\n",
       "      <td>NaN</td>\n",
       "      <td>Election of the Speaker</td>\n",
       "      <td>NaN</td>\n",
       "    </tr>\n",
       "    <tr>\n",
       "      <th>3</th>\n",
       "      <td>118</td>\n",
       "      <td>House</td>\n",
       "      <td>4</td>\n",
       "      <td>2023-01-04</td>\n",
       "      <td>1</td>\n",
       "      <td>5</td>\n",
       "      <td>212</td>\n",
       "      <td>221</td>\n",
       "      <td>0.023</td>\n",
       "      <td>-0.045</td>\n",
       "      <td>0.716</td>\n",
       "      <td>-0.133</td>\n",
       "      <td>-0.352</td>\n",
       "      <td>NaN</td>\n",
       "      <td>Jeffries</td>\n",
       "      <td>NaN</td>\n",
       "      <td>Election of the Speaker</td>\n",
       "      <td>NaN</td>\n",
       "    </tr>\n",
       "    <tr>\n",
       "      <th>4</th>\n",
       "      <td>118</td>\n",
       "      <td>House</td>\n",
       "      <td>5</td>\n",
       "      <td>2023-01-04</td>\n",
       "      <td>1</td>\n",
       "      <td>6</td>\n",
       "      <td>212</td>\n",
       "      <td>221</td>\n",
       "      <td>0.023</td>\n",
       "      <td>-0.045</td>\n",
       "      <td>0.716</td>\n",
       "      <td>-0.133</td>\n",
       "      <td>-0.352</td>\n",
       "      <td>NaN</td>\n",
       "      <td>Jeffries</td>\n",
       "      <td>NaN</td>\n",
       "      <td>Election of the Speaker</td>\n",
       "      <td>NaN</td>\n",
       "    </tr>\n",
       "  </tbody>\n",
       "</table>\n",
       "</div>"
      ],
      "text/plain": [
       "   congress chamber  rollnumber        date  session  clerk_rollnumber  \\\n",
       "0       118   House           1  2023-01-03        1                 2   \n",
       "1       118   House           2  2023-01-03        1                 3   \n",
       "2       118   House           3  2023-01-03        1                 4   \n",
       "3       118   House           4  2023-01-04        1                 5   \n",
       "4       118   House           5  2023-01-04        1                 6   \n",
       "\n",
       "   yea_count  nay_count  nominate_mid_1  nominate_mid_2  nominate_spread_1  \\\n",
       "0        212        222           0.023          -0.045              0.716   \n",
       "1        212        222           0.023          -0.045              0.716   \n",
       "2        212        222           0.023          -0.045              0.716   \n",
       "3        212        221           0.023          -0.045              0.716   \n",
       "4        212        221           0.023          -0.045              0.716   \n",
       "\n",
       "   nominate_spread_2  nominate_log_likelihood bill_number vote_result  \\\n",
       "0             -0.133                   -0.352         NaN    Jeffries   \n",
       "1             -0.133                   -0.352         NaN    Jeffries   \n",
       "2             -0.133                   -0.352         NaN    Jeffries   \n",
       "3             -0.133                   -0.352         NaN    Jeffries   \n",
       "4             -0.133                   -0.352         NaN    Jeffries   \n",
       "\n",
       "  vote_desc            vote_question  dtl_desc  \n",
       "0       NaN  Election of the Speaker       NaN  \n",
       "1       NaN  Election of the Speaker       NaN  \n",
       "2       NaN  Election of the Speaker       NaN  \n",
       "3       NaN  Election of the Speaker       NaN  \n",
       "4       NaN  Election of the Speaker       NaN  "
      ]
     },
     "execution_count": 15,
     "metadata": {},
     "output_type": "execute_result"
    }
   ],
   "source": [
    "rolldf.head()"
   ]
  },
  {
   "cell_type": "code",
   "execution_count": 12,
   "metadata": {},
   "outputs": [
    {
     "data": {
      "text/plain": [
       "204"
      ]
     },
     "execution_count": 12,
     "metadata": {},
     "output_type": "execute_result"
    }
   ],
   "source": [
    "data_arr = []\n",
    "for text in text_arr:\n",
    "    for bill in bills:\n",
    "        if str(bill) in text:\n",
    "            if \n",
    "            data_arr.append(\n",
    "                [\n",
    "                    text, max(rolldf[rolldf['bill_number'] == bill]['yea_count'])\n",
    "                 ]\n",
    "            )"
   ]
  },
  {
   "cell_type": "code",
   "execution_count": null,
   "metadata": {},
   "outputs": [],
   "source": []
  }
 ],
 "metadata": {
  "kernelspec": {
   "display_name": "Python 3",
   "language": "python",
   "name": "python3"
  },
  "language_info": {
   "codemirror_mode": {
    "name": "ipython",
    "version": 3
   },
   "file_extension": ".py",
   "mimetype": "text/x-python",
   "name": "python",
   "nbconvert_exporter": "python",
   "pygments_lexer": "ipython3",
   "version": "3.10.6"
  },
  "orig_nbformat": 4
 },
 "nbformat": 4,
 "nbformat_minor": 2
}
