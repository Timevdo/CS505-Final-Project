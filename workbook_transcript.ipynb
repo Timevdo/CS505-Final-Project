{
 "cells": [
  {
   "cell_type": "code",
   "execution_count": 3,
   "metadata": {},
   "outputs": [],
   "source": [
    "import numpy as np\n",
    "import pandas as pd\n",
    "import json\n",
    "import re"
   ]
  },
  {
   "cell_type": "code",
   "execution_count": 4,
   "metadata": {},
   "outputs": [],
   "source": [
    "with open('data/daterangegovinfo02.json', 'r') as fl:\n",
    "    govinfo_dct = json.loads(fl.read())"
   ]
  },
  {
   "cell_type": "code",
   "execution_count": 5,
   "metadata": {},
   "outputs": [
    {
     "name": "stdout",
     "output_type": "stream",
     "text": [
      "Congressional Record, Volume 168 Issue 2 (Tuesday, January 4, 2022) From the Congressional Record Online through the Government Publishing Office Remembering Johnny Isakson Mr. THUNE. Mr. President, before I begin, I want to express my deep sorrow at the death of former Senator Johnny Isakson. I served with Johnny for a long time, not just here in the Senate, where we came in together as freshman Members in 2005, but also in the House of Representatives, and I was honored to call him my friend. Johnny was a tremendously effective legislator and, in particular, a champion for veterans and a model of decency and graciousness. When I came down to the floor to discuss his retirement 2 years ago, I read a quote from a politics professor in Georgia that I thought really captured Johnny. I think so still. Here is what that professor had to say: As a political science professor and an administrator, I'm often asked by students if good people can serve in government and keep their integrity. Johnny Isakson is always the first example I come to. It's very often a shocking revelation to most people--that good people can, and often do, serve in government for long periods, fight hard for what they believe in, and remain true to themselves and their principles. And they don't have to sell their souls to do it. It's a great lesson, really. Mr. President, that was Johnny--a good man, one of the best I have ever known. He came to Washington to serve his State and his country and served them faithfully throughout his life. My thoughts and prayers are with Johnny's wife Dianne and with his children and grandchildren.\n"
     ]
    }
   ],
   "source": [
    "text_arr = [el['transcript'] for el in govinfo_dct]\n",
    "\n",
    "clean_text_arr = []\n",
    "CLEANR = re.compile('<.*?>')\n",
    "CLEANR2 = re.compile('\\[.*?\\]')\n",
    "CLEANR3 = re.compile(\"\\s+\")\n",
    "\n",
    "for text in text_arr:\n",
    "    temp = re.sub(CLEANR, '', text)\n",
    "    temp = re.sub(CLEANR2, '', temp)\n",
    "    temp = temp.replace('\\n', ' ')\n",
    "    temp = re.sub(CLEANR3, ' ', temp).strip()\n",
    "    clean_text_arr.append(temp)\n",
    "\n",
    "text_arr = clean_text_arr.copy()\n",
    "del clean_text_arr\n",
    "print(text_arr[0])"
   ]
  },
  {
   "cell_type": "code",
   "execution_count": 43,
   "metadata": {},
   "outputs": [
    {
     "name": "stderr",
     "output_type": "stream",
     "text": [
      "/tmp/ipykernel_13051/2705642688.py:1: DtypeWarning: Columns (14,15,16,17) have mixed types. Specify dtype option on import or set low_memory=False.\n",
      "  rolldf = pd.read_csv('data/HSall_rollcalls.csv')\n"
     ]
    },
    {
     "data": {
      "text/plain": [
       "'HR4200'"
      ]
     },
     "execution_count": 43,
     "metadata": {},
     "output_type": "execute_result"
    }
   ],
   "source": [
    "rolldf = pd.read_csv('data/HSall_rollcalls.csv')\n",
    "bills = list(set(rolldf['bill_number']))\n",
    "bills[100]"
   ]
  },
  {
   "cell_type": "code",
   "execution_count": 44,
   "metadata": {},
   "outputs": [
    {
     "data": {
      "text/html": [
       "<div>\n",
       "<style scoped>\n",
       "    .dataframe tbody tr th:only-of-type {\n",
       "        vertical-align: middle;\n",
       "    }\n",
       "\n",
       "    .dataframe tbody tr th {\n",
       "        vertical-align: top;\n",
       "    }\n",
       "\n",
       "    .dataframe thead th {\n",
       "        text-align: right;\n",
       "    }\n",
       "</style>\n",
       "<table border=\"1\" class=\"dataframe\">\n",
       "  <thead>\n",
       "    <tr style=\"text-align: right;\">\n",
       "      <th></th>\n",
       "      <th>congress</th>\n",
       "      <th>chamber</th>\n",
       "      <th>rollnumber</th>\n",
       "      <th>date</th>\n",
       "      <th>session</th>\n",
       "      <th>clerk_rollnumber</th>\n",
       "      <th>yea_count</th>\n",
       "      <th>nay_count</th>\n",
       "      <th>nominate_mid_1</th>\n",
       "      <th>nominate_mid_2</th>\n",
       "      <th>nominate_spread_1</th>\n",
       "      <th>nominate_spread_2</th>\n",
       "      <th>nominate_log_likelihood</th>\n",
       "      <th>bill_number</th>\n",
       "      <th>vote_result</th>\n",
       "      <th>vote_desc</th>\n",
       "      <th>vote_question</th>\n",
       "      <th>dtl_desc</th>\n",
       "    </tr>\n",
       "  </thead>\n",
       "  <tbody>\n",
       "    <tr>\n",
       "      <th>0</th>\n",
       "      <td>1</td>\n",
       "      <td>House</td>\n",
       "      <td>1</td>\n",
       "      <td>1789-05-16</td>\n",
       "      <td>NaN</td>\n",
       "      <td>NaN</td>\n",
       "      <td>41</td>\n",
       "      <td>8</td>\n",
       "      <td>0.484</td>\n",
       "      <td>-0.872</td>\n",
       "      <td>0.229</td>\n",
       "      <td>-0.378</td>\n",
       "      <td>-13.144</td>\n",
       "      <td>HR2</td>\n",
       "      <td>NaN</td>\n",
       "      <td>NaN</td>\n",
       "      <td>NaN</td>\n",
       "      <td>TO AMEND H.R. 2, (1 STAT. 24, APP. 7-4-1789), ...</td>\n",
       "    </tr>\n",
       "    <tr>\n",
       "      <th>1</th>\n",
       "      <td>1</td>\n",
       "      <td>House</td>\n",
       "      <td>2</td>\n",
       "      <td>1789-05-22</td>\n",
       "      <td>NaN</td>\n",
       "      <td>NaN</td>\n",
       "      <td>36</td>\n",
       "      <td>1</td>\n",
       "      <td>0.256</td>\n",
       "      <td>0.967</td>\n",
       "      <td>-0.090</td>\n",
       "      <td>1.791</td>\n",
       "      <td>-1.900</td>\n",
       "      <td>NaN</td>\n",
       "      <td>NaN</td>\n",
       "      <td>NaN</td>\n",
       "      <td>NaN</td>\n",
       "      <td>TO PASS THE RESOLUTION THAT IT APPEARS TO THIS...</td>\n",
       "    </tr>\n",
       "    <tr>\n",
       "      <th>2</th>\n",
       "      <td>1</td>\n",
       "      <td>House</td>\n",
       "      <td>3</td>\n",
       "      <td>1789-06-22</td>\n",
       "      <td>NaN</td>\n",
       "      <td>NaN</td>\n",
       "      <td>30</td>\n",
       "      <td>18</td>\n",
       "      <td>-0.394</td>\n",
       "      <td>-0.454</td>\n",
       "      <td>-0.176</td>\n",
       "      <td>0.922</td>\n",
       "      <td>-22.048</td>\n",
       "      <td>HR8</td>\n",
       "      <td>NaN</td>\n",
       "      <td>NaN</td>\n",
       "      <td>NaN</td>\n",
       "      <td>TO AMEND H.R. 8, (1 STAT. 28, APP. 7-27-1789),...</td>\n",
       "    </tr>\n",
       "    <tr>\n",
       "      <th>3</th>\n",
       "      <td>1</td>\n",
       "      <td>House</td>\n",
       "      <td>4</td>\n",
       "      <td>1789-06-22</td>\n",
       "      <td>NaN</td>\n",
       "      <td>NaN</td>\n",
       "      <td>31</td>\n",
       "      <td>19</td>\n",
       "      <td>-0.194</td>\n",
       "      <td>-0.981</td>\n",
       "      <td>0.081</td>\n",
       "      <td>-0.327</td>\n",
       "      <td>-30.355</td>\n",
       "      <td>HR8</td>\n",
       "      <td>NaN</td>\n",
       "      <td>NaN</td>\n",
       "      <td>NaN</td>\n",
       "      <td>TO AMEND H.R. 8, SO AS TO ELIMINATE THE PRESID...</td>\n",
       "    </tr>\n",
       "    <tr>\n",
       "      <th>4</th>\n",
       "      <td>1</td>\n",
       "      <td>House</td>\n",
       "      <td>5</td>\n",
       "      <td>1789-06-24</td>\n",
       "      <td>NaN</td>\n",
       "      <td>NaN</td>\n",
       "      <td>29</td>\n",
       "      <td>22</td>\n",
       "      <td>-0.197</td>\n",
       "      <td>-0.266</td>\n",
       "      <td>-0.168</td>\n",
       "      <td>0.984</td>\n",
       "      <td>-22.221</td>\n",
       "      <td>HR8</td>\n",
       "      <td>NaN</td>\n",
       "      <td>NaN</td>\n",
       "      <td>NaN</td>\n",
       "      <td>TO PASS H.R. 8.</td>\n",
       "    </tr>\n",
       "  </tbody>\n",
       "</table>\n",
       "</div>"
      ],
      "text/plain": [
       "   congress chamber  rollnumber        date  session  clerk_rollnumber  \\\n",
       "0         1   House           1  1789-05-16      NaN               NaN   \n",
       "1         1   House           2  1789-05-22      NaN               NaN   \n",
       "2         1   House           3  1789-06-22      NaN               NaN   \n",
       "3         1   House           4  1789-06-22      NaN               NaN   \n",
       "4         1   House           5  1789-06-24      NaN               NaN   \n",
       "\n",
       "   yea_count  nay_count  nominate_mid_1  nominate_mid_2  nominate_spread_1  \\\n",
       "0         41          8           0.484          -0.872              0.229   \n",
       "1         36          1           0.256           0.967             -0.090   \n",
       "2         30         18          -0.394          -0.454             -0.176   \n",
       "3         31         19          -0.194          -0.981              0.081   \n",
       "4         29         22          -0.197          -0.266             -0.168   \n",
       "\n",
       "   nominate_spread_2  nominate_log_likelihood bill_number vote_result  \\\n",
       "0             -0.378                  -13.144         HR2         NaN   \n",
       "1              1.791                   -1.900         NaN         NaN   \n",
       "2              0.922                  -22.048         HR8         NaN   \n",
       "3             -0.327                  -30.355         HR8         NaN   \n",
       "4              0.984                  -22.221         HR8         NaN   \n",
       "\n",
       "  vote_desc vote_question                                           dtl_desc  \n",
       "0       NaN           NaN  TO AMEND H.R. 2, (1 STAT. 24, APP. 7-4-1789), ...  \n",
       "1       NaN           NaN  TO PASS THE RESOLUTION THAT IT APPEARS TO THIS...  \n",
       "2       NaN           NaN  TO AMEND H.R. 8, (1 STAT. 28, APP. 7-27-1789),...  \n",
       "3       NaN           NaN  TO AMEND H.R. 8, SO AS TO ELIMINATE THE PRESID...  \n",
       "4       NaN           NaN                                    TO PASS H.R. 8.  "
      ]
     },
     "execution_count": 44,
     "metadata": {},
     "output_type": "execute_result"
    }
   ],
   "source": [
    "rolldf.head()"
   ]
  },
  {
   "cell_type": "code",
   "execution_count": 62,
   "metadata": {},
   "outputs": [],
   "source": [
    "def get_bill_data(bill):\n",
    "    if bill not in set(rolldf['bill_number']):\n",
    "        return None\n",
    "    return rolldf[rolldf['bill_number'] == bill]"
   ]
  },
  {
   "cell_type": "code",
   "execution_count": 88,
   "metadata": {},
   "outputs": [],
   "source": [
    "with open(\"./congress/mentions_of_bills.json\") as f:\n",
    "\tdata = json.load(f)\n",
    "\n",
    "bills = set()\n",
    "bill_keys = []\n",
    "data_arr = []\n",
    "\n",
    "BILL_REGEX = re.compile(r\"(H\\.R\\. \\d+|H\\. Res\\. \\d+|S\\. \\d+|S\\. Res\\. \\d+)\")\n",
    "BILL_KEY = re.compile(r\"[\\s\\.]\")\n",
    "for item in data:\n",
    "\tb = (re.search(BILL_REGEX, item['transcript']).group(1))\n",
    "\tbkey = re.sub(BILL_KEY, \"\", b)\n",
    "\tbdata = get_bill_data(bkey)\n",
    "\tif bdata is not None:\n",
    "\t\tdata_arr.append([bkey, item['transcript'], int(max(bdata['yea_count']))])"
   ]
  },
  {
   "cell_type": "code",
   "execution_count": 89,
   "metadata": {},
   "outputs": [
    {
     "name": "stdout",
     "output_type": "stream",
     "text": [
      "220\n"
     ]
    }
   ],
   "source": [
    "print(data_arr[100][2])"
   ]
  },
  {
   "cell_type": "code",
   "execution_count": 90,
   "metadata": {},
   "outputs": [
    {
     "data": {
      "text/plain": [
       "5481"
      ]
     },
     "execution_count": 90,
     "metadata": {},
     "output_type": "execute_result"
    }
   ],
   "source": [
    "len(data_arr)"
   ]
  },
  {
   "cell_type": "code",
   "execution_count": null,
   "metadata": {},
   "outputs": [],
   "source": []
  }
 ],
 "metadata": {
  "kernelspec": {
   "display_name": "Python 3",
   "language": "python",
   "name": "python3"
  },
  "language_info": {
   "codemirror_mode": {
    "name": "ipython",
    "version": 3
   },
   "file_extension": ".py",
   "mimetype": "text/x-python",
   "name": "python",
   "nbconvert_exporter": "python",
   "pygments_lexer": "ipython3",
   "version": "3.10.6"
  },
  "orig_nbformat": 4
 },
 "nbformat": 4,
 "nbformat_minor": 2
}
