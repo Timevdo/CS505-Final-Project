{
 "cells": [
  {
   "cell_type": "code",
   "execution_count": 65,
   "metadata": {},
   "outputs": [],
   "source": [
    "import numpy as np\n",
    "import pandas as pd\n",
    "import json\n",
    "import re"
   ]
  },
  {
   "cell_type": "code",
   "execution_count": 66,
   "metadata": {},
   "outputs": [],
   "source": [
    "transcripts_df = pd.read_csv('annotated_transcirpts_117C_v3.csv')"
   ]
  },
  {
   "cell_type": "code",
   "execution_count": 67,
   "metadata": {},
   "outputs": [],
   "source": [
    "CLEANR = re.compile('<.*?>')\n",
    "CLEANR2 = re.compile('[.*?]')\n",
    "CLEANR3 = re.compile(\"s+\")"
   ]
  },
  {
   "cell_type": "code",
   "execution_count": 68,
   "metadata": {},
   "outputs": [],
   "source": [
    "def clean_text(text):\n",
    "    temp = re.sub(CLEANR, '', text)\n",
    "    temp = re.sub(CLEANR2, '', temp)\n",
    "    temp = temp.replace('\\n', ' ')\n",
    "    temp = re.sub(CLEANR3, ' ', temp).strip()\n",
    "    temp = temp.lower()\n",
    "    return temp"
   ]
  },
  {
   "cell_type": "code",
   "execution_count": 69,
   "metadata": {},
   "outputs": [],
   "source": [
    "transcripts_df['transcript'] = transcripts_df['transcript'].apply(clean_text)"
   ]
  },
  {
   "cell_type": "code",
   "execution_count": 70,
   "metadata": {},
   "outputs": [
    {
     "data": {
      "text/html": [
       "<div>\n",
       "<style scoped>\n",
       "    .dataframe tbody tr th:only-of-type {\n",
       "        vertical-align: middle;\n",
       "    }\n",
       "\n",
       "    .dataframe tbody tr th {\n",
       "        vertical-align: top;\n",
       "    }\n",
       "\n",
       "    .dataframe thead th {\n",
       "        text-align: right;\n",
       "    }\n",
       "</style>\n",
       "<table border=\"1\" class=\"dataframe\">\n",
       "  <thead>\n",
       "    <tr style=\"text-align: right;\">\n",
       "      <th></th>\n",
       "      <th>Unnamed: 0</th>\n",
       "      <th>meta</th>\n",
       "      <th>transcript</th>\n",
       "      <th>date_x</th>\n",
       "      <th>bill_number</th>\n",
       "      <th>congress</th>\n",
       "      <th>chamber</th>\n",
       "      <th>rollnumber</th>\n",
       "      <th>date_y</th>\n",
       "      <th>session</th>\n",
       "      <th>...</th>\n",
       "      <th>nay_count</th>\n",
       "      <th>nominate_mid_1</th>\n",
       "      <th>nominate_mid_2</th>\n",
       "      <th>nominate_spread_1</th>\n",
       "      <th>nominate_spread_2</th>\n",
       "      <th>nominate_log_likelihood</th>\n",
       "      <th>vote_result</th>\n",
       "      <th>vote_desc</th>\n",
       "      <th>vote_question</th>\n",
       "      <th>dtl_desc</th>\n",
       "    </tr>\n",
       "  </thead>\n",
       "  <tbody>\n",
       "    <tr>\n",
       "      <th>0</th>\n",
       "      <td>148</td>\n",
       "      <td>{'body': 'H', 'depth': 2, 'download_timeout': ...</td>\n",
       "      <td>congre ional record, volume 168 i ue 12 (wedne...</td>\n",
       "      <td>2022-01-23</td>\n",
       "      <td>HR1</td>\n",
       "      <td>117</td>\n",
       "      <td>House</td>\n",
       "      <td>51</td>\n",
       "      <td>2021-03-02</td>\n",
       "      <td>1</td>\n",
       "      <td>...</td>\n",
       "      <td>210</td>\n",
       "      <td>0.03</td>\n",
       "      <td>0.037</td>\n",
       "      <td>0.716</td>\n",
       "      <td>-0.099</td>\n",
       "      <td>-0.246</td>\n",
       "      <td>Agreed to</td>\n",
       "      <td>NaN</td>\n",
       "      <td>On Agreeing to the Amendment</td>\n",
       "      <td>NaN</td>\n",
       "    </tr>\n",
       "    <tr>\n",
       "      <th>1</th>\n",
       "      <td>156</td>\n",
       "      <td>{'body': 'S', 'depth': 2, 'download_timeout': ...</td>\n",
       "      <td>congre ional record, volume 168 i ue 8 (wedne ...</td>\n",
       "      <td>2022-01-23</td>\n",
       "      <td>HR1</td>\n",
       "      <td>117</td>\n",
       "      <td>House</td>\n",
       "      <td>51</td>\n",
       "      <td>2021-03-02</td>\n",
       "      <td>1</td>\n",
       "      <td>...</td>\n",
       "      <td>210</td>\n",
       "      <td>0.03</td>\n",
       "      <td>0.037</td>\n",
       "      <td>0.716</td>\n",
       "      <td>-0.099</td>\n",
       "      <td>-0.246</td>\n",
       "      <td>Agreed to</td>\n",
       "      <td>NaN</td>\n",
       "      <td>On Agreeing to the Amendment</td>\n",
       "      <td>NaN</td>\n",
       "    </tr>\n",
       "    <tr>\n",
       "      <th>2</th>\n",
       "      <td>164</td>\n",
       "      <td>{'body': 'S', 'depth': 2, 'download_timeout': ...</td>\n",
       "      <td>congre ional record, volume 168 i ue 7 (tue da...</td>\n",
       "      <td>2022-01-23</td>\n",
       "      <td>HR1</td>\n",
       "      <td>117</td>\n",
       "      <td>House</td>\n",
       "      <td>51</td>\n",
       "      <td>2021-03-02</td>\n",
       "      <td>1</td>\n",
       "      <td>...</td>\n",
       "      <td>210</td>\n",
       "      <td>0.03</td>\n",
       "      <td>0.037</td>\n",
       "      <td>0.716</td>\n",
       "      <td>-0.099</td>\n",
       "      <td>-0.246</td>\n",
       "      <td>Agreed to</td>\n",
       "      <td>NaN</td>\n",
       "      <td>On Agreeing to the Amendment</td>\n",
       "      <td>NaN</td>\n",
       "    </tr>\n",
       "    <tr>\n",
       "      <th>3</th>\n",
       "      <td>172</td>\n",
       "      <td>{'body': 'S', 'depth': 2, 'download_timeout': ...</td>\n",
       "      <td>congre ional record, volume 168 i ue 7 (tue da...</td>\n",
       "      <td>2022-01-23</td>\n",
       "      <td>HR1</td>\n",
       "      <td>117</td>\n",
       "      <td>House</td>\n",
       "      <td>51</td>\n",
       "      <td>2021-03-02</td>\n",
       "      <td>1</td>\n",
       "      <td>...</td>\n",
       "      <td>210</td>\n",
       "      <td>0.03</td>\n",
       "      <td>0.037</td>\n",
       "      <td>0.716</td>\n",
       "      <td>-0.099</td>\n",
       "      <td>-0.246</td>\n",
       "      <td>Agreed to</td>\n",
       "      <td>NaN</td>\n",
       "      <td>On Agreeing to the Amendment</td>\n",
       "      <td>NaN</td>\n",
       "    </tr>\n",
       "    <tr>\n",
       "      <th>4</th>\n",
       "      <td>180</td>\n",
       "      <td>{'body': 'H', 'depth': 2, 'download_timeout': ...</td>\n",
       "      <td>congre ional record, volume 168 i ue 48 (thur ...</td>\n",
       "      <td>2022-03-24</td>\n",
       "      <td>HR1</td>\n",
       "      <td>117</td>\n",
       "      <td>House</td>\n",
       "      <td>51</td>\n",
       "      <td>2021-03-02</td>\n",
       "      <td>1</td>\n",
       "      <td>...</td>\n",
       "      <td>210</td>\n",
       "      <td>0.03</td>\n",
       "      <td>0.037</td>\n",
       "      <td>0.716</td>\n",
       "      <td>-0.099</td>\n",
       "      <td>-0.246</td>\n",
       "      <td>Agreed to</td>\n",
       "      <td>NaN</td>\n",
       "      <td>On Agreeing to the Amendment</td>\n",
       "      <td>NaN</td>\n",
       "    </tr>\n",
       "  </tbody>\n",
       "</table>\n",
       "<p>5 rows × 22 columns</p>\n",
       "</div>"
      ],
      "text/plain": [
       "   Unnamed: 0                                               meta  \\\n",
       "0         148  {'body': 'H', 'depth': 2, 'download_timeout': ...   \n",
       "1         156  {'body': 'S', 'depth': 2, 'download_timeout': ...   \n",
       "2         164  {'body': 'S', 'depth': 2, 'download_timeout': ...   \n",
       "3         172  {'body': 'S', 'depth': 2, 'download_timeout': ...   \n",
       "4         180  {'body': 'H', 'depth': 2, 'download_timeout': ...   \n",
       "\n",
       "                                          transcript      date_x bill_number  \\\n",
       "0  congre ional record, volume 168 i ue 12 (wedne...  2022-01-23         HR1   \n",
       "1  congre ional record, volume 168 i ue 8 (wedne ...  2022-01-23         HR1   \n",
       "2  congre ional record, volume 168 i ue 7 (tue da...  2022-01-23         HR1   \n",
       "3  congre ional record, volume 168 i ue 7 (tue da...  2022-01-23         HR1   \n",
       "4  congre ional record, volume 168 i ue 48 (thur ...  2022-03-24         HR1   \n",
       "\n",
       "   congress chamber  rollnumber      date_y  session  ...  nay_count  \\\n",
       "0       117   House          51  2021-03-02        1  ...        210   \n",
       "1       117   House          51  2021-03-02        1  ...        210   \n",
       "2       117   House          51  2021-03-02        1  ...        210   \n",
       "3       117   House          51  2021-03-02        1  ...        210   \n",
       "4       117   House          51  2021-03-02        1  ...        210   \n",
       "\n",
       "   nominate_mid_1  nominate_mid_2  nominate_spread_1  nominate_spread_2  \\\n",
       "0            0.03           0.037              0.716             -0.099   \n",
       "1            0.03           0.037              0.716             -0.099   \n",
       "2            0.03           0.037              0.716             -0.099   \n",
       "3            0.03           0.037              0.716             -0.099   \n",
       "4            0.03           0.037              0.716             -0.099   \n",
       "\n",
       "   nominate_log_likelihood  vote_result  vote_desc  \\\n",
       "0                   -0.246    Agreed to        NaN   \n",
       "1                   -0.246    Agreed to        NaN   \n",
       "2                   -0.246    Agreed to        NaN   \n",
       "3                   -0.246    Agreed to        NaN   \n",
       "4                   -0.246    Agreed to        NaN   \n",
       "\n",
       "                  vote_question dtl_desc  \n",
       "0  On Agreeing to the Amendment      NaN  \n",
       "1  On Agreeing to the Amendment      NaN  \n",
       "2  On Agreeing to the Amendment      NaN  \n",
       "3  On Agreeing to the Amendment      NaN  \n",
       "4  On Agreeing to the Amendment      NaN  \n",
       "\n",
       "[5 rows x 22 columns]"
      ]
     },
     "execution_count": 70,
     "metadata": {},
     "output_type": "execute_result"
    }
   ],
   "source": [
    "transcripts_df.head()"
   ]
  },
  {
   "cell_type": "code",
   "execution_count": 71,
   "metadata": {},
   "outputs": [],
   "source": [
    "# Load the glove mode\n",
    "vec_txt_file_lines = open('glove.6B.100d.txt', 'r').readlines()\n",
    "\n",
    "glove = {}\n",
    "\n",
    "for line in vec_txt_file_lines:\n",
    "    line_split = line.split(' ')\n",
    "    key = line_split[0]\n",
    "    vec = np.array([float(v) for v in line_split[1:]])\n",
    "    glove[key] = vec"
   ]
  },
  {
   "cell_type": "code",
   "execution_count": 72,
   "metadata": {},
   "outputs": [],
   "source": [
    "X_naive_mean = []\n",
    "Y_naive_mean_yea = []\n",
    "Y_naive_mean_passed = []\n",
    "\n",
    "for i, row in transcripts_df.iterrows():\n",
    "    tx_vecs = []\n",
    "    for w in row['transcript'].split(' '):\n",
    "        if w in glove:\n",
    "            tx_vecs.append(glove[w])\n",
    "\n",
    "    X_naive_mean.append(np.mean(tx_vecs, axis=0))\n",
    "    Y_naive_mean_yea.append(row['yea_count'])\n",
    "    Y_naive_mean_passed.append(True if row['vote_result'] == 'Passed' else False)"
   ]
  },
  {
   "cell_type": "code",
   "execution_count": 73,
   "metadata": {},
   "outputs": [
    {
     "name": "stderr",
     "output_type": "stream",
     "text": [
      "/home/timevdo/.local/lib/python3.10/site-packages/sklearn/svm/_classes.py:32: FutureWarning: The default value of `dual` will change from `True` to `'auto'` in 1.5. Set the value of `dual` explicitly to suppress the warning.\n",
      "  warnings.warn(\n"
     ]
    },
    {
     "name": "stdout",
     "output_type": "stream",
     "text": [
      "0.09814981949458483\n",
      "55.93029381511854\n"
     ]
    }
   ],
   "source": [
    "from sklearn.svm import LinearSVC, LinearSVR\n",
    "from sklearn.metrics import accuracy_score, mean_squared_error\n",
    "from sklearn.model_selection import train_test_split\n",
    "\n",
    "X_train, X_test, y_train, y_test = train_test_split(\n",
    "    X_naive_mean, Y_naive_mean_yea, test_size=0.2, random_state=42)\n",
    "\n",
    "model = LinearSVC(class_weight='balanced').fit(X_train, y_train)\n",
    "\n",
    "y_pred = model.predict(X_test)\n",
    "print(accuracy_score(y_test, y_pred))\n",
    "print(mean_squared_error(y_test, y_pred)**0.5)"
   ]
  },
  {
   "cell_type": "code",
   "execution_count": 131,
   "metadata": {},
   "outputs": [
    {
     "name": "stdout",
     "output_type": "stream",
     "text": [
      "0.6938176895306859\n"
     ]
    },
    {
     "data": {
      "image/png": "[encoded data removed]",
      "text/plain": [
       "<Figure size 640x480 with 2 Axes>"
      ]
     },
     "metadata": {},
     "output_type": "display_data"
    }
   ],
   "source": [
    "from sklearn.linear_model import SGDClassifier\n",
    "\n",
    "X_train, X_test, y_train, y_test = train_test_split(\n",
    "    X_naive_mean, Y_naive_mean_passed, test_size=0.2, random_state=42)\n",
    "\n",
    "model = SGDClassifier(\n",
    "    class_weight='balanced',\n",
    "    loss='log_loss',\n",
    "    alpha=0.00001\n",
    "    ).fit(X_train, y_train)\n",
    "y_pred = model.predict(X_test)\n",
    "accuracy_score(y_test, y_pred)\n",
    "\n",
    "print(accuracy_score(y_test, y_pred))\n",
    "\n",
    "from sklearn.metrics import confusion_matrix\n",
    "import seaborn as sns\n",
    "import matplotlib.pyplot as plt\n",
    "\n",
    "cm = confusion_matrix(y_test, y_pred, normalize='true')\n",
    "sns.heatmap(cm, annot=True)\n",
    "plt.title('Confusion matrix of the classifier')\n",
    "plt.xlabel('Predicted')\n",
    "plt.ylabel('True')\n",
    "plt.show()"
   ]
  },
  {
   "cell_type": "code",
   "execution_count": 132,
   "metadata": {},
   "outputs": [
    {
     "name": "stderr",
     "output_type": "stream",
     "text": [
      "/home/timevdo/.local/lib/python3.10/site-packages/sklearn/svm/_classes.py:32: FutureWarning: The default value of `dual` will change from `True` to `'auto'` in 1.5. Set the value of `dual` explicitly to suppress the warning.\n",
      "  warnings.warn(\n"
     ]
    }
   ],
   "source": [
    "from sklearn.linear_model import SGDClassifier\n",
    "\n",
    "X_train, X_test, y_train, y_test = train_test_split(\n",
    "    X_naive_mean, Y_naive_mean_passed, test_size=0.3, random_state=42)\n",
    "\n",
    "model = LinearSVC(\n",
    "    class_weight='balanced'\n",
    "    ).fit(X_train, y_train)\n",
    "y_pred = model.predict(X_test)\n",
    "accuracy_score(y_test, y_pred)\n",
    "\n",
    "print(accuracy_score(y_test, y_pred))\n",
    "\n",
    "from sklearn.metrics import confusion_matrix\n",
    "import seaborn as sns\n",
    "import matplotlib.pyplot as plt\n",
    "\n",
    "cm = confusion_matrix(y_test, y_pred, normalize='true')\n",
    "sns.heatmap(cm, annot=True)\n",
    "plt.title('Confusion matrix of the classifier')\n",
    "plt.xlabel('Predicted')\n",
    "plt.ylabel('True')\n",
    "plt.show()"
   ]
  },
  {
   "cell_type": "code",
   "execution_count": 75,
   "metadata": {},
   "outputs": [
    {
     "data": {
      "text/plain": [
       "{False, True}"
      ]
     },
     "execution_count": 75,
     "metadata": {},
     "output_type": "execute_result"
    }
   ],
   "source": [
    "set(y_pred)"
   ]
  },
  {
   "cell_type": "code",
   "execution_count": 76,
   "metadata": {},
   "outputs": [
    {
     "name": "stdout",
     "output_type": "stream",
     "text": [
      "52.22124288506633\n"
     ]
    }
   ],
   "source": [
    "from xgboost import XGBClassifier, XGBRegressor\n",
    "\n",
    "X_train, X_test, y_train, y_test = train_test_split(\n",
    "    X_naive_mean, Y_naive_mean_yea, test_size=0.2, random_state=42)\n",
    "\n",
    "bst = XGBRegressor(n_estimators=200, learning_rate=0.1)\n",
    "bst.fit(X_train, y_train)\n",
    "y_pred = bst.predict(X_test)\n",
    "print(mean_squared_error(y_test, y_pred)**0.5)"
   ]
  },
  {
   "cell_type": "code",
   "execution_count": 92,
   "metadata": {},
   "outputs": [
    {
     "ename": "SyntaxError",
     "evalue": "keyword argument repeated: objective (593354339.py, line 4)",
     "output_type": "error",
     "traceback": [
      "\u001b[0;36m  Cell \u001b[0;32mIn[92], line 4\u001b[0;36m\u001b[0m\n\u001b[0;31m    bst = XGBClassifier(n_estimators=100, max_depth=150, learning_rate=1, objective='binary:logistic', objective='binary:logistic')\u001b[0m\n\u001b[0m                                                                                                       ^\u001b[0m\n\u001b[0;31mSyntaxError\u001b[0m\u001b[0;31m:\u001b[0m keyword argument repeated: objective\n"
     ]
    }
   ],
   "source": [
    "X_train, X_test, y_train, y_test = train_test_split(\n",
    "    X_naive_mean, Y_naive_mean_passed, test_size=0.2, random_state=42)\n",
    "\n",
    "bst = XGBClassifier(n_estimators=100, max_depth=150, learning_rate=1, objective='binary:logistic', objective='binary:logistic')\n",
    "\n",
    "bst.fit(X_train, y_train)\n",
    "y_pred = bst.predict(X_test)"
   ]
  },
  {
   "cell_type": "code",
   "execution_count": 91,
   "metadata": {},
   "outputs": [
    {
     "name": "stdout",
     "output_type": "stream",
     "text": [
      "0.9465252707581228\n"
     ]
    },
    {
     "data": {
      "image/png": "[encoded data removed]",
      "text/plain": [
       "<Figure size 640x480 with 2 Axes>"
      ]
     },
     "metadata": {},
     "output_type": "display_data"
    }
   ],
   "source": [
    "print(accuracy_score(y_test, y_pred))\n",
    "\n",
    "cm = confusion_matrix(y_test, y_pred, normalize='true')\n",
    "sns.heatmap(cm, annot=True)\n",
    "plt.title('Confusion matrix of the classifier')\n",
    "plt.xlabel('Predicted')\n",
    "plt.ylabel('True')\n",
    "plt.show()"
   ]
  },
  {
   "cell_type": "code",
   "execution_count": null,
   "metadata": {},
   "outputs": [],
   "source": []
  }
 ],
 "metadata": {
  "kernelspec": {
   "display_name": "Python 3",
   "language": "python",
   "name": "python3"
  },
  "language_info": {
   "codemirror_mode": {
    "name": "ipython",
    "version": 3
   },
   "file_extension": ".py",
   "mimetype": "text/x-python",
   "name": "python",
   "nbconvert_exporter": "python",
   "pygments_lexer": "ipython3",
   "version": "3.10.6"
  },
  "orig_nbformat": 4
 },
 "nbformat": 4,
 "nbformat_minor": 2
}
