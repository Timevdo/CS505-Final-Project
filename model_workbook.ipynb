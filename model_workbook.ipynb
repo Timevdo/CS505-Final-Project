{
 "cells": [
  {
   "cell_type": "code",
   "execution_count": 1,
   "metadata": {
    "ExecuteTime": {
     "start_time": "2023-12-20T21:03:31.252988Z",
     "end_time": "2023-12-20T21:03:31.263778Z"
    }
   },
   "outputs": [],
   "source": [
    "import numpy as np\n",
    "import pandas as pd\n",
    "import json\n",
    "import re"
   ]
  },
  {
   "cell_type": "code",
   "execution_count": 9,
   "metadata": {
    "ExecuteTime": {
     "start_time": "2023-12-20T21:08:00.866524Z",
     "end_time": "2023-12-20T21:08:27.028225Z"
    }
   },
   "outputs": [],
   "source": [
    "transcripts_df = pd.read_csv('annotated_transcirpts_117C_v3.csv')"
   ]
  },
  {
   "cell_type": "code",
   "execution_count": 10,
   "outputs": [
    {
     "data": {
      "text/plain": "1846825944"
     },
     "execution_count": 10,
     "metadata": {},
     "output_type": "execute_result"
    }
   ],
   "source": [
    "import os\n",
    "\n",
    "# show the size of annotated_transcirpts_117C_v3.csv\n",
    "os.path.getsize('annotated_transcirpts_117C_v3.csv')"
   ],
   "metadata": {
    "collapsed": false,
    "ExecuteTime": {
     "start_time": "2023-12-20T21:10:19.069563Z",
     "end_time": "2023-12-20T21:10:19.116379Z"
    }
   }
  },
  {
   "cell_type": "code",
   "execution_count": 11,
   "outputs": [
    {
     "data": {
      "text/plain": "347116733"
     },
     "execution_count": 11,
     "metadata": {},
     "output_type": "execute_result"
    }
   ],
   "source": [
    "os.path.getsize('glove.6B.100d.txt')"
   ],
   "metadata": {
    "collapsed": false,
    "ExecuteTime": {
     "start_time": "2023-12-20T21:10:56.641988Z",
     "end_time": "2023-12-20T21:10:56.690164Z"
    }
   }
  },
  {
   "cell_type": "code",
   "execution_count": 3,
   "metadata": {
    "ExecuteTime": {
     "start_time": "2023-12-20T21:03:50.092290Z",
     "end_time": "2023-12-20T21:03:50.109709Z"
    }
   },
   "outputs": [],
   "source": [
    "CLEANR = re.compile('<.*?>')\n",
    "CLEANR2 = re.compile('[.*?]')\n",
    "CLEANR3 = re.compile(\"s+\")"
   ]
  },
  {
   "cell_type": "code",
   "execution_count": 4,
   "metadata": {
    "ExecuteTime": {
     "start_time": "2023-12-20T21:03:50.107708Z",
     "end_time": "2023-12-20T21:03:50.126211Z"
    }
   },
   "outputs": [],
   "source": [
    "def clean_text(text):\n",
    "    temp = re.sub(CLEANR, '', text)\n",
    "    temp = re.sub(CLEANR2, '', temp)\n",
    "    temp = temp.replace('\\n', ' ')\n",
    "    temp = re.sub(CLEANR3, ' ', temp).strip()\n",
    "    temp = temp.lower()\n",
    "    return temp"
   ]
  },
  {
   "cell_type": "code",
   "execution_count": 5,
   "metadata": {
    "ExecuteTime": {
     "start_time": "2023-12-20T21:03:50.123754Z",
     "end_time": "2023-12-20T21:04:53.513542Z"
    }
   },
   "outputs": [],
   "source": [
    "transcripts_df['transcript'] = transcripts_df['transcript'].apply(clean_text)"
   ]
  },
  {
   "cell_type": "code",
   "execution_count": 6,
   "metadata": {
    "ExecuteTime": {
     "start_time": "2023-12-20T21:04:53.513542Z",
     "end_time": "2023-12-20T21:04:53.559763Z"
    }
   },
   "outputs": [
    {
     "data": {
      "text/plain": "   Unnamed: 0                                               meta  \\\n0         148  {'body': 'H', 'depth': 2, 'download_timeout': ...   \n1         156  {'body': 'S', 'depth': 2, 'download_timeout': ...   \n2         164  {'body': 'S', 'depth': 2, 'download_timeout': ...   \n3         172  {'body': 'S', 'depth': 2, 'download_timeout': ...   \n4         180  {'body': 'H', 'depth': 2, 'download_timeout': ...   \n\n                                          transcript      date_x bill_number  \\\n0  congre ional record, volume 168 i ue 12 (wedne...  2022-01-23         HR1   \n1  congre ional record, volume 168 i ue 8 (wedne ...  2022-01-23         HR1   \n2  congre ional record, volume 168 i ue 7 (tue da...  2022-01-23         HR1   \n3  congre ional record, volume 168 i ue 7 (tue da...  2022-01-23         HR1   \n4  congre ional record, volume 168 i ue 48 (thur ...  2022-03-24         HR1   \n\n   congress chamber  rollnumber      date_y  session  ...  nay_count  \\\n0       117   House          51  2021-03-02        1  ...        210   \n1       117   House          51  2021-03-02        1  ...        210   \n2       117   House          51  2021-03-02        1  ...        210   \n3       117   House          51  2021-03-02        1  ...        210   \n4       117   House          51  2021-03-02        1  ...        210   \n\n   nominate_mid_1  nominate_mid_2  nominate_spread_1  nominate_spread_2  \\\n0            0.03           0.037              0.716             -0.099   \n1            0.03           0.037              0.716             -0.099   \n2            0.03           0.037              0.716             -0.099   \n3            0.03           0.037              0.716             -0.099   \n4            0.03           0.037              0.716             -0.099   \n\n   nominate_log_likelihood  vote_result  vote_desc  \\\n0                   -0.246    Agreed to        NaN   \n1                   -0.246    Agreed to        NaN   \n2                   -0.246    Agreed to        NaN   \n3                   -0.246    Agreed to        NaN   \n4                   -0.246    Agreed to        NaN   \n\n                  vote_question dtl_desc  \n0  On Agreeing to the Amendment      NaN  \n1  On Agreeing to the Amendment      NaN  \n2  On Agreeing to the Amendment      NaN  \n3  On Agreeing to the Amendment      NaN  \n4  On Agreeing to the Amendment      NaN  \n\n[5 rows x 22 columns]",
      "text/html": "<div>\n<style scoped>\n    .dataframe tbody tr th:only-of-type {\n        vertical-align: middle;\n    }\n\n    .dataframe tbody tr th {\n        vertical-align: top;\n    }\n\n    .dataframe thead th {\n        text-align: right;\n    }\n</style>\n<table border=\"1\" class=\"dataframe\">\n  <thead>\n    <tr style=\"text-align: right;\">\n      <th></th>\n      <th>Unnamed: 0</th>\n      <th>meta</th>\n      <th>transcript</th>\n      <th>date_x</th>\n      <th>bill_number</th>\n      <th>congress</th>\n      <th>chamber</th>\n      <th>rollnumber</th>\n      <th>date_y</th>\n      <th>session</th>\n      <th>...</th>\n      <th>nay_count</th>\n      <th>nominate_mid_1</th>\n      <th>nominate_mid_2</th>\n      <th>nominate_spread_1</th>\n      <th>nominate_spread_2</th>\n      <th>nominate_log_likelihood</th>\n      <th>vote_result</th>\n      <th>vote_desc</th>\n      <th>vote_question</th>\n      <th>dtl_desc</th>\n    </tr>\n  </thead>\n  <tbody>\n    <tr>\n      <th>0</th>\n      <td>148</td>\n      <td>{'body': 'H', 'depth': 2, 'download_timeout': ...</td>\n      <td>congre ional record, volume 168 i ue 12 (wedne...</td>\n      <td>2022-01-23</td>\n      <td>HR1</td>\n      <td>117</td>\n      <td>House</td>\n      <td>51</td>\n      <td>2021-03-02</td>\n      <td>1</td>\n      <td>...</td>\n      <td>210</td>\n      <td>0.03</td>\n      <td>0.037</td>\n      <td>0.716</td>\n      <td>-0.099</td>\n      <td>-0.246</td>\n      <td>Agreed to</td>\n      <td>NaN</td>\n      <td>On Agreeing to the Amendment</td>\n      <td>NaN</td>\n    </tr>\n    <tr>\n      <th>1</th>\n      <td>156</td>\n      <td>{'body': 'S', 'depth': 2, 'download_timeout': ...</td>\n      <td>congre ional record, volume 168 i ue 8 (wedne ...</td>\n      <td>2022-01-23</td>\n      <td>HR1</td>\n      <td>117</td>\n      <td>House</td>\n      <td>51</td>\n      <td>2021-03-02</td>\n      <td>1</td>\n      <td>...</td>\n      <td>210</td>\n      <td>0.03</td>\n      <td>0.037</td>\n      <td>0.716</td>\n      <td>-0.099</td>\n      <td>-0.246</td>\n      <td>Agreed to</td>\n      <td>NaN</td>\n      <td>On Agreeing to the Amendment</td>\n      <td>NaN</td>\n    </tr>\n    <tr>\n      <th>2</th>\n      <td>164</td>\n      <td>{'body': 'S', 'depth': 2, 'download_timeout': ...</td>\n      <td>congre ional record, volume 168 i ue 7 (tue da...</td>\n      <td>2022-01-23</td>\n      <td>HR1</td>\n      <td>117</td>\n      <td>House</td>\n      <td>51</td>\n      <td>2021-03-02</td>\n      <td>1</td>\n      <td>...</td>\n      <td>210</td>\n      <td>0.03</td>\n      <td>0.037</td>\n      <td>0.716</td>\n      <td>-0.099</td>\n      <td>-0.246</td>\n      <td>Agreed to</td>\n      <td>NaN</td>\n      <td>On Agreeing to the Amendment</td>\n      <td>NaN</td>\n    </tr>\n    <tr>\n      <th>3</th>\n      <td>172</td>\n      <td>{'body': 'S', 'depth': 2, 'download_timeout': ...</td>\n      <td>congre ional record, volume 168 i ue 7 (tue da...</td>\n      <td>2022-01-23</td>\n      <td>HR1</td>\n      <td>117</td>\n      <td>House</td>\n      <td>51</td>\n      <td>2021-03-02</td>\n      <td>1</td>\n      <td>...</td>\n      <td>210</td>\n      <td>0.03</td>\n      <td>0.037</td>\n      <td>0.716</td>\n      <td>-0.099</td>\n      <td>-0.246</td>\n      <td>Agreed to</td>\n      <td>NaN</td>\n      <td>On Agreeing to the Amendment</td>\n      <td>NaN</td>\n    </tr>\n    <tr>\n      <th>4</th>\n      <td>180</td>\n      <td>{'body': 'H', 'depth': 2, 'download_timeout': ...</td>\n      <td>congre ional record, volume 168 i ue 48 (thur ...</td>\n      <td>2022-03-24</td>\n      <td>HR1</td>\n      <td>117</td>\n      <td>House</td>\n      <td>51</td>\n      <td>2021-03-02</td>\n      <td>1</td>\n      <td>...</td>\n      <td>210</td>\n      <td>0.03</td>\n      <td>0.037</td>\n      <td>0.716</td>\n      <td>-0.099</td>\n      <td>-0.246</td>\n      <td>Agreed to</td>\n      <td>NaN</td>\n      <td>On Agreeing to the Amendment</td>\n      <td>NaN</td>\n    </tr>\n  </tbody>\n</table>\n<p>5 rows × 22 columns</p>\n</div>"
     },
     "execution_count": 6,
     "metadata": {},
     "output_type": "execute_result"
    }
   ],
   "source": [
    "transcripts_df.head()"
   ]
  },
  {
   "cell_type": "code",
   "execution_count": 7,
   "metadata": {
    "ExecuteTime": {
     "start_time": "2023-12-20T21:04:53.559763Z",
     "end_time": "2023-12-20T21:05:15.256252Z"
    }
   },
   "outputs": [],
   "source": [
    "# Load the glove mode\n",
    "vec_txt_file_lines = open('glove.6B.100d.txt', 'r', encoding=\"utf8\").readlines()\n",
    "\n",
    "glove = {}\n",
    "\n",
    "for line in vec_txt_file_lines:\n",
    "    line_split = line.split(' ')\n",
    "    key = line_split[0]\n",
    "    vec = np.array([float(v) for v in line_split[1:]])\n",
    "    glove[key] = vec"
   ]
  },
  {
   "cell_type": "code",
   "execution_count": 8,
   "metadata": {
    "ExecuteTime": {
     "start_time": "2023-12-20T20:34:53.754858Z",
     "end_time": "2023-12-20T20:40:41.561580Z"
    }
   },
   "outputs": [
    {
     "ename": "KeyboardInterrupt",
     "evalue": "",
     "output_type": "error",
     "traceback": [
      "\u001B[1;31m---------------------------------------------------------------------------\u001B[0m",
      "\u001B[1;31mKeyboardInterrupt\u001B[0m                         Traceback (most recent call last)",
      "Cell \u001B[1;32mIn[8], line 11\u001B[0m\n\u001B[0;32m      8\u001B[0m     \u001B[38;5;28;01mif\u001B[39;00m w \u001B[38;5;129;01min\u001B[39;00m glove:\n\u001B[0;32m      9\u001B[0m         tx_vecs\u001B[38;5;241m.\u001B[39mappend(glove[w])\n\u001B[1;32m---> 11\u001B[0m X_naive_mean\u001B[38;5;241m.\u001B[39mappend(\u001B[43mnp\u001B[49m\u001B[38;5;241;43m.\u001B[39;49m\u001B[43mmean\u001B[49m\u001B[43m(\u001B[49m\u001B[43mtx_vecs\u001B[49m\u001B[43m,\u001B[49m\u001B[43m \u001B[49m\u001B[43maxis\u001B[49m\u001B[38;5;241;43m=\u001B[39;49m\u001B[38;5;241;43m0\u001B[39;49m\u001B[43m)\u001B[49m)\n\u001B[0;32m     12\u001B[0m Y_naive_mean_yea\u001B[38;5;241m.\u001B[39mappend(row[\u001B[38;5;124m'\u001B[39m\u001B[38;5;124myea_count\u001B[39m\u001B[38;5;124m'\u001B[39m])\n\u001B[0;32m     13\u001B[0m Y_naive_mean_passed\u001B[38;5;241m.\u001B[39mappend(\u001B[38;5;28;01mTrue\u001B[39;00m \u001B[38;5;28;01mif\u001B[39;00m row[\u001B[38;5;124m'\u001B[39m\u001B[38;5;124mvote_result\u001B[39m\u001B[38;5;124m'\u001B[39m] \u001B[38;5;241m==\u001B[39m \u001B[38;5;124m'\u001B[39m\u001B[38;5;124mPassed\u001B[39m\u001B[38;5;124m'\u001B[39m \u001B[38;5;28;01melse\u001B[39;00m \u001B[38;5;28;01mFalse\u001B[39;00m)\n",
      "File \u001B[1;32m~\\AppData\\Local\\pypoetry\\Cache\\virtualenvs\\cs505-final-project-NukGPjlo-py3.9\\lib\\site-packages\\numpy\\core\\fromnumeric.py:3504\u001B[0m, in \u001B[0;36mmean\u001B[1;34m(a, axis, dtype, out, keepdims, where)\u001B[0m\n\u001B[0;32m   3501\u001B[0m     \u001B[38;5;28;01melse\u001B[39;00m:\n\u001B[0;32m   3502\u001B[0m         \u001B[38;5;28;01mreturn\u001B[39;00m mean(axis\u001B[38;5;241m=\u001B[39maxis, dtype\u001B[38;5;241m=\u001B[39mdtype, out\u001B[38;5;241m=\u001B[39mout, \u001B[38;5;241m*\u001B[39m\u001B[38;5;241m*\u001B[39mkwargs)\n\u001B[1;32m-> 3504\u001B[0m \u001B[38;5;28;01mreturn\u001B[39;00m _methods\u001B[38;5;241m.\u001B[39m_mean(a, axis\u001B[38;5;241m=\u001B[39maxis, dtype\u001B[38;5;241m=\u001B[39mdtype,\n\u001B[0;32m   3505\u001B[0m                       out\u001B[38;5;241m=\u001B[39mout, \u001B[38;5;241m*\u001B[39m\u001B[38;5;241m*\u001B[39mkwargs)\n",
      "File \u001B[1;32m~\\AppData\\Local\\pypoetry\\Cache\\virtualenvs\\cs505-final-project-NukGPjlo-py3.9\\lib\\site-packages\\numpy\\core\\_methods.py:102\u001B[0m, in \u001B[0;36m_mean\u001B[1;34m(a, axis, dtype, out, keepdims, where)\u001B[0m\n\u001B[0;32m    101\u001B[0m \u001B[38;5;28;01mdef\u001B[39;00m \u001B[38;5;21m_mean\u001B[39m(a, axis\u001B[38;5;241m=\u001B[39m\u001B[38;5;28;01mNone\u001B[39;00m, dtype\u001B[38;5;241m=\u001B[39m\u001B[38;5;28;01mNone\u001B[39;00m, out\u001B[38;5;241m=\u001B[39m\u001B[38;5;28;01mNone\u001B[39;00m, keepdims\u001B[38;5;241m=\u001B[39m\u001B[38;5;28;01mFalse\u001B[39;00m, \u001B[38;5;241m*\u001B[39m, where\u001B[38;5;241m=\u001B[39m\u001B[38;5;28;01mTrue\u001B[39;00m):\n\u001B[1;32m--> 102\u001B[0m     arr \u001B[38;5;241m=\u001B[39m \u001B[43masanyarray\u001B[49m\u001B[43m(\u001B[49m\u001B[43ma\u001B[49m\u001B[43m)\u001B[49m\n\u001B[0;32m    104\u001B[0m     is_float16_result \u001B[38;5;241m=\u001B[39m \u001B[38;5;28;01mFalse\u001B[39;00m\n\u001B[0;32m    106\u001B[0m     rcount \u001B[38;5;241m=\u001B[39m _count_reduce_items(arr, axis, keepdims\u001B[38;5;241m=\u001B[39mkeepdims, where\u001B[38;5;241m=\u001B[39mwhere)\n",
      "\u001B[1;31mKeyboardInterrupt\u001B[0m: "
     ]
    }
   ],
   "source": [
    "X_naive_mean = []\n",
    "Y_naive_mean_yea = []\n",
    "Y_naive_mean_passed = []\n",
    "\n",
    "for i, row in transcripts_df.iterrows():\n",
    "    tx_vecs = []\n",
    "    for w in row['transcript'].split(' '):\n",
    "        if w in glove:\n",
    "            tx_vecs.append(glove[w])\n",
    "\n",
    "    X_naive_mean.append(np.mean(tx_vecs, axis=0))\n",
    "    Y_naive_mean_yea.append(row['yea_count'])\n",
    "    Y_naive_mean_passed.append(True if row['vote_result'] == 'Passed' else False)"
   ]
  },
  {
   "cell_type": "code",
   "execution_count": 12,
   "outputs": [],
   "source": [
    "# prompt: save X_naive_mean, Y_naive_mean_yea, Y_naive_mean_passed with pickle\n",
    "\n",
    "import pickle\n",
    "with open('X_naive_mean.pickle', 'wb') as f:\n",
    "    pickle.dump(X_naive_mean, f)\n",
    "\n",
    "with open('Y_naive_mean_yea.pickle', 'wb') as f:\n",
    "    pickle.dump(Y_naive_mean_yea, f)\n",
    "\n",
    "with open('Y_naive_mean_passed.pickle', 'wb') as f:\n",
    "    pickle.dump(Y_naive_mean_passed, f)\n"
   ],
   "metadata": {
    "collapsed": false,
    "ExecuteTime": {
     "start_time": "2023-12-21T13:19:06.550383Z",
     "end_time": "2023-12-21T13:19:07.136362Z"
    }
   }
  },
  {
   "cell_type": "code",
   "execution_count": 19,
   "metadata": {
    "ExecuteTime": {
     "start_time": "2023-12-20T20:40:41.578243Z",
     "end_time": "2023-12-20T20:47:24.399497Z"
    }
   },
   "outputs": [
    {
     "name": "stderr",
     "output_type": "stream",
     "text": [
      "C:\\Users\\Ezra\\AppData\\Local\\pypoetry\\Cache\\virtualenvs\\cs505-final-project-NukGPjlo-py3.9\\lib\\site-packages\\sklearn\\svm\\_classes.py:32: FutureWarning: The default value of `dual` will change from `True` to `'auto'` in 1.5. Set the value of `dual` explicitly to suppress the warning.\n",
      "  warnings.warn(\n"
     ]
    },
    {
     "name": "stdout",
     "output_type": "stream",
     "text": [
      "0.015455776173285198\n",
      "119.93808289045154\n"
     ]
    },
    {
     "name": "stderr",
     "output_type": "stream",
     "text": [
      "C:\\Users\\Ezra\\AppData\\Local\\pypoetry\\Cache\\virtualenvs\\cs505-final-project-NukGPjlo-py3.9\\lib\\site-packages\\sklearn\\svm\\_base.py:1250: ConvergenceWarning: Liblinear failed to converge, increase the number of iterations.\n",
      "  warnings.warn(\n"
     ]
    }
   ],
   "source": [
    "from sklearn.svm import LinearSVC, LinearSVR\n",
    "from sklearn.metrics import accuracy_score, mean_squared_error\n",
    "from sklearn.model_selection import train_test_split\n",
    "\n",
    "X_train, X_test, y_train, y_test = train_test_split(\n",
    "    X_naive_mean, Y_naive_mean_yea, test_size=0.2, random_state=42)\n",
    "\n",
    "model = LinearSVC(class_weight='balanced').fit(X_train, y_train)\n",
    "\n",
    "y_pred = model.predict(X_test)\n",
    "print(accuracy_score(y_test, y_pred))\n",
    "print(mean_squared_error(y_test, y_pred)**0.5)"
   ]
  },
  {
   "cell_type": "code",
   "execution_count": 21,
   "metadata": {
    "ExecuteTime": {
     "start_time": "2023-12-20T20:48:10.580261Z",
     "end_time": "2023-12-20T20:48:13.445136Z"
    }
   },
   "outputs": [
    {
     "name": "stdout",
     "output_type": "stream",
     "text": [
      "0.9020758122743683\n"
     ]
    },
    {
     "data": {
      "text/plain": "<Figure size 640x480 with 2 Axes>",
      "image/png": "[encoded data removed]"
     },
     "metadata": {},
     "output_type": "display_data"
    }
   ],
   "source": [
    "from sklearn.linear_model import SGDClassifier\n",
    "\n",
    "X_train, X_test, y_train, y_test = train_test_split(\n",
    "    X_naive_mean, Y_naive_mean_passed, test_size=0.2, random_state=42)\n",
    "\n",
    "model = SGDClassifier(\n",
    "    class_weight='balanced',\n",
    "    loss='log_loss',\n",
    "    alpha=0.00001\n",
    "    ).fit(X_train, y_train)\n",
    "y_pred = model.predict(X_test)\n",
    "accuracy_score(y_test, y_pred)\n",
    "\n",
    "print(accuracy_score(y_test, y_pred))\n",
    "\n",
    "from sklearn.metrics import confusion_matrix\n",
    "import seaborn as sns\n",
    "import matplotlib.pyplot as plt\n",
    "\n",
    "cm = confusion_matrix(y_test, y_pred, normalize='true')\n",
    "sns.heatmap(cm, annot=True)\n",
    "plt.title('Confusion matrix of the classifier')\n",
    "plt.xlabel('Predicted')\n",
    "plt.ylabel('True')\n",
    "plt.show()"
   ]
  },
  {
   "cell_type": "code",
   "execution_count": 22,
   "metadata": {
    "ExecuteTime": {
     "start_time": "2023-12-20T20:48:13.430589Z",
     "end_time": "2023-12-20T20:48:34.757895Z"
    }
   },
   "outputs": [
    {
     "name": "stderr",
     "output_type": "stream",
     "text": [
      "C:\\Users\\Ezra\\AppData\\Local\\pypoetry\\Cache\\virtualenvs\\cs505-final-project-NukGPjlo-py3.9\\lib\\site-packages\\sklearn\\svm\\_classes.py:32: FutureWarning: The default value of `dual` will change from `True` to `'auto'` in 1.5. Set the value of `dual` explicitly to suppress the warning.\n",
      "  warnings.warn(\n",
      "C:\\Users\\Ezra\\AppData\\Local\\pypoetry\\Cache\\virtualenvs\\cs505-final-project-NukGPjlo-py3.9\\lib\\site-packages\\sklearn\\svm\\_base.py:1250: ConvergenceWarning: Liblinear failed to converge, increase the number of iterations.\n",
      "  warnings.warn(\n"
     ]
    },
    {
     "name": "stdout",
     "output_type": "stream",
     "text": [
      "0.86838146811071\n"
     ]
    },
    {
     "data": {
      "text/plain": "<Figure size 640x480 with 2 Axes>",
      "image/png": "[encoded data removed]"
     },
     "metadata": {},
     "output_type": "display_data"
    }
   ],
   "source": [
    "from sklearn.linear_model import SGDClassifier\n",
    "\n",
    "X_train, X_test, y_train, y_test = train_test_split(\n",
    "    X_naive_mean, Y_naive_mean_passed, test_size=0.3, random_state=42)\n",
    "\n",
    "model = LinearSVC(\n",
    "    class_weight='balanced'\n",
    "    ).fit(X_train, y_train)\n",
    "y_pred = model.predict(X_test)\n",
    "accuracy_score(y_test, y_pred)\n",
    "\n",
    "print(accuracy_score(y_test, y_pred))\n",
    "\n",
    "from sklearn.metrics import confusion_matrix\n",
    "import seaborn as sns\n",
    "import matplotlib.pyplot as plt\n",
    "\n",
    "cm = confusion_matrix(y_test, y_pred, normalize='true')\n",
    "sns.heatmap(cm, annot=True)\n",
    "plt.title('Confusion matrix of the classifier')\n",
    "plt.xlabel('Predicted')\n",
    "plt.ylabel('True')\n",
    "plt.show()"
   ]
  },
  {
   "cell_type": "code",
   "execution_count": 23,
   "metadata": {
    "ExecuteTime": {
     "start_time": "2023-12-20T20:48:34.746741Z",
     "end_time": "2023-12-20T20:48:34.757895Z"
    }
   },
   "outputs": [
    {
     "data": {
      "text/plain": "{False, True}"
     },
     "execution_count": 23,
     "metadata": {},
     "output_type": "execute_result"
    }
   ],
   "source": [
    "set(y_pred)"
   ]
  },
  {
   "cell_type": "code",
   "execution_count": 24,
   "metadata": {
    "ExecuteTime": {
     "start_time": "2023-12-20T20:49:57.400585Z",
     "end_time": "2023-12-20T20:50:06.716363Z"
    }
   },
   "outputs": [
    {
     "name": "stdout",
     "output_type": "stream",
     "text": [
      "52.22124288506633\n"
     ]
    }
   ],
   "source": [
    "from xgboost import XGBClassifier, XGBRegressor\n",
    "\n",
    "X_train, X_test, y_train, y_test = train_test_split(\n",
    "    X_naive_mean, Y_naive_mean_yea, test_size=0.2, random_state=42)\n",
    "\n",
    "bst = XGBRegressor(n_estimators=200, learning_rate=0.1)\n",
    "bst.fit(X_train, y_train)\n",
    "y_pred = bst.predict(X_test)\n",
    "print(mean_squared_error(y_test, y_pred)**0.5)"
   ]
  },
  {
   "cell_type": "code",
   "execution_count": 25,
   "metadata": {
    "ExecuteTime": {
     "start_time": "2023-12-20T20:50:06.723920Z",
     "end_time": "2023-12-20T20:50:30.874707Z"
    }
   },
   "outputs": [],
   "source": [
    "X_train, X_test, y_train, y_test = train_test_split(\n",
    "    X_naive_mean, Y_naive_mean_passed, test_size=0.2, random_state=42)\n",
    "\n",
    "bst = XGBClassifier(n_estimators=100, max_depth=150, learning_rate=1, objective='binary:logistic')\n",
    "\n",
    "bst.fit(X_train, y_train)\n",
    "y_pred = bst.predict(X_test)"
   ]
  },
  {
   "cell_type": "code",
   "execution_count": 26,
   "metadata": {
    "ExecuteTime": {
     "start_time": "2023-12-20T20:50:30.870701Z",
     "end_time": "2023-12-20T20:50:31.158314Z"
    }
   },
   "outputs": [
    {
     "name": "stdout",
     "output_type": "stream",
     "text": [
      "0.9448330324909747\n"
     ]
    },
    {
     "data": {
      "text/plain": "<Figure size 640x480 with 2 Axes>",
      "image/png": "[encoded data removed]"
     },
     "metadata": {},
     "output_type": "display_data"
    }
   ],
   "source": [
    "print(accuracy_score(y_test, y_pred))\n",
    "\n",
    "cm = confusion_matrix(y_test, y_pred, normalize='true')\n",
    "sns.heatmap(cm, annot=True)\n",
    "plt.title('Confusion matrix of the classifier')\n",
    "plt.xlabel('Predicted')\n",
    "plt.ylabel('True')\n",
    "plt.show()"
   ]
  },
  {
   "cell_type": "code",
   "execution_count": null,
   "metadata": {},
   "outputs": [],
   "source": [
    "# use a simple NN to predict the number of yea votes\n",
    "# just 5 stacked dense layers\n",
    "\n",
    "from keras.models import Sequential\n",
    "from keras.layers import Dense, Dropout\n",
    "from keras.optimizers import Adam\n",
    "\n",
    "model = Sequential()\n",
    "model.add(Dense(100, input_dim=100, activation='relu'))\n",
    "model.add(Dropout(0.2))\n",
    "model.add(Dense(100, activation='relu'))\n",
    "model.add(Dropout(0.2))\n",
    "model.add(Dense(100, activation='relu'))\n",
    "model.add(Dropout(0.2))\n",
    "model.add(Dense(100, activation='relu'))\n",
    "model.add(Dropout(0.2))\n",
    "model.add(Dense(100, activation='relu'))\n",
    "model.add(Dense(1, activation='linear'))\n",
    "\n",
    "# train to predict the number of yea votes given the transcript embedding\n",
    "\n",
    "model.compile(loss='mean_squared_error', optimizer=Adam())\n",
    "\n",
    "X_train, X_test, y_train, y_test = train_test_split(\n",
    "    X_naive_mean, Y_naive_mean_yea, test_size=0.2, random_state=42)\n",
    "\n",
    "model.fit(np.array(X_train), np.array(y_train), epochs=100, batch_size=32, verbose=1)"
   ]
  },
  {
   "cell_type": "code",
   "execution_count": 13,
   "outputs": [
    {
     "data": {
      "text/plain": "count    44319.000000\nmean       221.949006\nstd         56.704273\nmin         78.000000\n25%        208.000000\n50%        218.000000\n75%        226.000000\nmax        432.000000\nName: yea_count, dtype: float64"
     },
     "execution_count": 13,
     "metadata": {},
     "output_type": "execute_result"
    }
   ],
   "source": [
    "# lets get the average, std, etc of the number of yea votes from the whole dataset (transcripts_df)\n",
    "\n",
    "transcripts_df['yea_count'].describe()"
   ],
   "metadata": {
    "collapsed": false,
    "ExecuteTime": {
     "start_time": "2023-12-21T15:07:18.851326Z",
     "end_time": "2023-12-21T15:07:19.344792Z"
    }
   }
  },
  {
   "cell_type": "code",
   "execution_count": null,
   "outputs": [],
   "source": [
    "# that model didn't work. let's try a pass-fail classifier instead.\n",
    "\n",
    "classifier_model = Sequential()\n",
    "classifier_model.add(Dense(100, input_dim=100, activation='relu'))\n",
    "classifier_model.add(Dropout(0.2))\n",
    "classifier_model.add(Dense(100, activation='relu'))\n",
    "classifier_model.add(Dropout(0.2))\n",
    "classifier_model.add(Dense(100, activation='relu'))\n",
    "classifier_model.add(Dropout(0.2))\n",
    "classifier_model.add(Dense(100, activation='relu'))\n",
    "classifier_model.add(Dense(1, activation='sigmoid'))"
   ],
   "metadata": {
    "collapsed": false
   }
  },
  {
   "cell_type": "code",
   "execution_count": null,
   "outputs": [],
   "source": [
    "# train it with new split based on naive_mean_passed\n",
    "\n",
    "classifier_model.compile(loss='binary_crossentropy', optimizer=Adam())\n",
    "\n",
    "X_train, X_test, y_train, y_test = train_test_split(\n",
    "    X_naive_mean, Y_naive_mean_passed, test_size=0.2, random_state=42)\n"
   ],
   "metadata": {
    "collapsed": false
   }
  },
  {
   "cell_type": "code",
   "execution_count": null,
   "outputs": [],
   "source": [
    "\n",
    "# compute class weights\n",
    "\n",
    "weight_for_false = (1 / len([x for x in y_train if x==False])) * (len(y_train)) / 2.0\n",
    "weight_for_true = (1 / len([x for x in y_train if x==True])) * (len(y_train)) / 2.0\n",
    "\n",
    "\n",
    "y_train = [int(x) for x in y_train]\n",
    "\n",
    "class_weight = {0: weight_for_false, 1: weight_for_true}\n",
    "class_weight"
   ],
   "metadata": {
    "collapsed": false
   }
  },
  {
   "cell_type": "code",
   "execution_count": null,
   "outputs": [],
   "source": [
    "\n",
    "classifier_model.fit(np.array(X_train), np.array(y_train), epochs=100, batch_size=32, verbose=1,\n",
    "                     class_weight=class_weight\n",
    "                     )"
   ],
   "metadata": {
    "collapsed": false
   }
  },
  {
   "cell_type": "code",
   "execution_count": null,
   "outputs": [],
   "source": [
    "# eval suite\n",
    "\n",
    "y_pred = classifier_model.predict_on_batch(np.array(X_test))\n",
    "\n",
    "y_pred_bool = [x[0] > 0.5 for x in y_pred]\n",
    "\n",
    "\n",
    "# accuracy & confusion matrix\n",
    "\n",
    "print(round(accuracy_score(y_test, y_pred_bool), 2))\n",
    "cm = confusion_matrix(y_test, y_pred_bool, normalize='true')\n",
    "\n",
    "sns.heatmap(cm, annot=True)\n",
    "plt.title('Confusion matrix of the Neural Net based classifier')\n",
    "plt.xlabel('Predicted')\n",
    "plt.ylabel('True')\n",
    "plt.show()"
   ],
   "metadata": {
    "collapsed": false
   }
  }
 ],
 "metadata": {
  "kernelspec": {
   "display_name": "Python 3",
   "language": "python",
   "name": "python3"
  },
  "language_info": {
   "codemirror_mode": {
    "name": "ipython",
    "version": 3
   },
   "file_extension": ".py",
   "mimetype": "text/x-python",
   "name": "python",
   "nbconvert_exporter": "python",
   "pygments_lexer": "ipython3",
   "version": "3.10.6"
  },
  "orig_nbformat": 4
 },
 "nbformat": 4,
 "nbformat_minor": 2
}
