{
 "cells": [
  {
   "cell_type": "code",
   "execution_count": 18,
   "metadata": {
    "ExecuteTime": {
     "end_time": "2023-12-20T21:03:31.263778Z",
     "start_time": "2023-12-20T21:03:31.252988Z"
    }
   },
   "outputs": [],
   "source": [
    "import numpy as np\n",
    "import pandas as pd\n",
    "import json\n",
    "import re"
   ]
  },
  {
   "cell_type": "code",
   "execution_count": 19,
   "metadata": {
    "ExecuteTime": {
     "end_time": "2023-12-20T21:08:27.028225Z",
     "start_time": "2023-12-20T21:08:00.866524Z"
    }
   },
   "outputs": [],
   "source": [
    "transcripts_df = pd.read_csv('data/annotated_transcirpts_117C_v3.csv')"
   ]
  },
  {
   "cell_type": "code",
   "execution_count": 22,
   "metadata": {
    "ExecuteTime": {
     "end_time": "2023-12-20T21:10:19.116379Z",
     "start_time": "2023-12-20T21:10:19.069563Z"
    },
    "collapsed": false
   },
   "outputs": [
    {
     "data": {
      "text/plain": [
       "1846802725"
      ]
     },
     "execution_count": 22,
     "metadata": {},
     "output_type": "execute_result"
    }
   ],
   "source": [
    "import os\n",
    "\n",
    "# show the size of annotated_transcirpts_117C_v3.csv\n",
    "os.path.getsize('data/annotated_transcirpts_117C_v3.csv')"
   ]
  },
  {
   "cell_type": "code",
   "execution_count": 21,
   "metadata": {
    "ExecuteTime": {
     "end_time": "2023-12-20T21:10:56.690164Z",
     "start_time": "2023-12-20T21:10:56.641988Z"
    },
    "collapsed": false
   },
   "outputs": [
    {
     "data": {
      "text/plain": [
       "347116733"
      ]
     },
     "execution_count": 21,
     "metadata": {},
     "output_type": "execute_result"
    }
   ],
   "source": [
    "os.path.getsize('data/glove.6B.100d.txt')"
   ]
  },
  {
   "cell_type": "code",
   "execution_count": 24,
   "metadata": {
    "ExecuteTime": {
     "end_time": "2023-12-20T21:03:50.109709Z",
     "start_time": "2023-12-20T21:03:50.092290Z"
    }
   },
   "outputs": [],
   "source": [
    "CLEANR = re.compile('<.*?>')\n",
    "CLEANR2 = re.compile('[.*?]')\n",
    "CLEANR3 = re.compile(\"s+\")"
   ]
  },
  {
   "cell_type": "code",
   "execution_count": 25,
   "metadata": {
    "ExecuteTime": {
     "end_time": "2023-12-20T21:03:50.126211Z",
     "start_time": "2023-12-20T21:03:50.107708Z"
    }
   },
   "outputs": [],
   "source": [
    "def clean_text(text):\n",
    "    temp = re.sub(CLEANR, '', text)\n",
    "    temp = re.sub(CLEANR2, '', temp)\n",
    "    temp = temp.replace('\\n', ' ')\n",
    "    temp = re.sub(CLEANR3, ' ', temp).strip()\n",
    "    temp = temp.lower()\n",
    "    return temp"
   ]
  },
  {
   "cell_type": "code",
   "execution_count": 26,
   "metadata": {
    "ExecuteTime": {
     "end_time": "2023-12-20T21:04:53.513542Z",
     "start_time": "2023-12-20T21:03:50.123754Z"
    }
   },
   "outputs": [],
   "source": [
    "transcripts_df['transcript'] = transcripts_df['transcript'].apply(clean_text)"
   ]
  },
  {
   "cell_type": "code",
   "execution_count": 27,
   "metadata": {
    "ExecuteTime": {
     "end_time": "2023-12-20T21:04:53.559763Z",
     "start_time": "2023-12-20T21:04:53.513542Z"
    }
   },
   "outputs": [
    {
     "data": {
      "text/html": [
       "<div>\n",
       "<style scoped>\n",
       "    .dataframe tbody tr th:only-of-type {\n",
       "        vertical-align: middle;\n",
       "    }\n",
       "\n",
       "    .dataframe tbody tr th {\n",
       "        vertical-align: top;\n",
       "    }\n",
       "\n",
       "    .dataframe thead th {\n",
       "        text-align: right;\n",
       "    }\n",
       "</style>\n",
       "<table border=\"1\" class=\"dataframe\">\n",
       "  <thead>\n",
       "    <tr style=\"text-align: right;\">\n",
       "      <th></th>\n",
       "      <th>Unnamed: 0</th>\n",
       "      <th>meta</th>\n",
       "      <th>transcript</th>\n",
       "      <th>date_x</th>\n",
       "      <th>bill_number</th>\n",
       "      <th>congress</th>\n",
       "      <th>chamber</th>\n",
       "      <th>rollnumber</th>\n",
       "      <th>date_y</th>\n",
       "      <th>session</th>\n",
       "      <th>...</th>\n",
       "      <th>nay_count</th>\n",
       "      <th>nominate_mid_1</th>\n",
       "      <th>nominate_mid_2</th>\n",
       "      <th>nominate_spread_1</th>\n",
       "      <th>nominate_spread_2</th>\n",
       "      <th>nominate_log_likelihood</th>\n",
       "      <th>vote_result</th>\n",
       "      <th>vote_desc</th>\n",
       "      <th>vote_question</th>\n",
       "      <th>dtl_desc</th>\n",
       "    </tr>\n",
       "  </thead>\n",
       "  <tbody>\n",
       "    <tr>\n",
       "      <th>0</th>\n",
       "      <td>148</td>\n",
       "      <td>{'body': 'H', 'depth': 2, 'download_timeout': ...</td>\n",
       "      <td>congre ional record, volume 168 i ue 12 (wedne...</td>\n",
       "      <td>2022-01-23</td>\n",
       "      <td>HR1</td>\n",
       "      <td>117</td>\n",
       "      <td>House</td>\n",
       "      <td>51</td>\n",
       "      <td>2021-03-02</td>\n",
       "      <td>1</td>\n",
       "      <td>...</td>\n",
       "      <td>210</td>\n",
       "      <td>0.03</td>\n",
       "      <td>0.037</td>\n",
       "      <td>0.716</td>\n",
       "      <td>-0.099</td>\n",
       "      <td>-0.246</td>\n",
       "      <td>Agreed to</td>\n",
       "      <td>NaN</td>\n",
       "      <td>On Agreeing to the Amendment</td>\n",
       "      <td>NaN</td>\n",
       "    </tr>\n",
       "    <tr>\n",
       "      <th>1</th>\n",
       "      <td>156</td>\n",
       "      <td>{'body': 'S', 'depth': 2, 'download_timeout': ...</td>\n",
       "      <td>congre ional record, volume 168 i ue 8 (wedne ...</td>\n",
       "      <td>2022-01-23</td>\n",
       "      <td>HR1</td>\n",
       "      <td>117</td>\n",
       "      <td>House</td>\n",
       "      <td>51</td>\n",
       "      <td>2021-03-02</td>\n",
       "      <td>1</td>\n",
       "      <td>...</td>\n",
       "      <td>210</td>\n",
       "      <td>0.03</td>\n",
       "      <td>0.037</td>\n",
       "      <td>0.716</td>\n",
       "      <td>-0.099</td>\n",
       "      <td>-0.246</td>\n",
       "      <td>Agreed to</td>\n",
       "      <td>NaN</td>\n",
       "      <td>On Agreeing to the Amendment</td>\n",
       "      <td>NaN</td>\n",
       "    </tr>\n",
       "    <tr>\n",
       "      <th>2</th>\n",
       "      <td>164</td>\n",
       "      <td>{'body': 'S', 'depth': 2, 'download_timeout': ...</td>\n",
       "      <td>congre ional record, volume 168 i ue 7 (tue da...</td>\n",
       "      <td>2022-01-23</td>\n",
       "      <td>HR1</td>\n",
       "      <td>117</td>\n",
       "      <td>House</td>\n",
       "      <td>51</td>\n",
       "      <td>2021-03-02</td>\n",
       "      <td>1</td>\n",
       "      <td>...</td>\n",
       "      <td>210</td>\n",
       "      <td>0.03</td>\n",
       "      <td>0.037</td>\n",
       "      <td>0.716</td>\n",
       "      <td>-0.099</td>\n",
       "      <td>-0.246</td>\n",
       "      <td>Agreed to</td>\n",
       "      <td>NaN</td>\n",
       "      <td>On Agreeing to the Amendment</td>\n",
       "      <td>NaN</td>\n",
       "    </tr>\n",
       "    <tr>\n",
       "      <th>3</th>\n",
       "      <td>172</td>\n",
       "      <td>{'body': 'S', 'depth': 2, 'download_timeout': ...</td>\n",
       "      <td>congre ional record, volume 168 i ue 7 (tue da...</td>\n",
       "      <td>2022-01-23</td>\n",
       "      <td>HR1</td>\n",
       "      <td>117</td>\n",
       "      <td>House</td>\n",
       "      <td>51</td>\n",
       "      <td>2021-03-02</td>\n",
       "      <td>1</td>\n",
       "      <td>...</td>\n",
       "      <td>210</td>\n",
       "      <td>0.03</td>\n",
       "      <td>0.037</td>\n",
       "      <td>0.716</td>\n",
       "      <td>-0.099</td>\n",
       "      <td>-0.246</td>\n",
       "      <td>Agreed to</td>\n",
       "      <td>NaN</td>\n",
       "      <td>On Agreeing to the Amendment</td>\n",
       "      <td>NaN</td>\n",
       "    </tr>\n",
       "    <tr>\n",
       "      <th>4</th>\n",
       "      <td>180</td>\n",
       "      <td>{'body': 'H', 'depth': 2, 'download_timeout': ...</td>\n",
       "      <td>congre ional record, volume 168 i ue 48 (thur ...</td>\n",
       "      <td>2022-03-24</td>\n",
       "      <td>HR1</td>\n",
       "      <td>117</td>\n",
       "      <td>House</td>\n",
       "      <td>51</td>\n",
       "      <td>2021-03-02</td>\n",
       "      <td>1</td>\n",
       "      <td>...</td>\n",
       "      <td>210</td>\n",
       "      <td>0.03</td>\n",
       "      <td>0.037</td>\n",
       "      <td>0.716</td>\n",
       "      <td>-0.099</td>\n",
       "      <td>-0.246</td>\n",
       "      <td>Agreed to</td>\n",
       "      <td>NaN</td>\n",
       "      <td>On Agreeing to the Amendment</td>\n",
       "      <td>NaN</td>\n",
       "    </tr>\n",
       "  </tbody>\n",
       "</table>\n",
       "<p>5 rows × 22 columns</p>\n",
       "</div>"
      ],
      "text/plain": [
       "   Unnamed: 0                                               meta  \\\n",
       "0         148  {'body': 'H', 'depth': 2, 'download_timeout': ...   \n",
       "1         156  {'body': 'S', 'depth': 2, 'download_timeout': ...   \n",
       "2         164  {'body': 'S', 'depth': 2, 'download_timeout': ...   \n",
       "3         172  {'body': 'S', 'depth': 2, 'download_timeout': ...   \n",
       "4         180  {'body': 'H', 'depth': 2, 'download_timeout': ...   \n",
       "\n",
       "                                          transcript      date_x bill_number  \\\n",
       "0  congre ional record, volume 168 i ue 12 (wedne...  2022-01-23         HR1   \n",
       "1  congre ional record, volume 168 i ue 8 (wedne ...  2022-01-23         HR1   \n",
       "2  congre ional record, volume 168 i ue 7 (tue da...  2022-01-23         HR1   \n",
       "3  congre ional record, volume 168 i ue 7 (tue da...  2022-01-23         HR1   \n",
       "4  congre ional record, volume 168 i ue 48 (thur ...  2022-03-24         HR1   \n",
       "\n",
       "   congress chamber  rollnumber      date_y  session  ...  nay_count  \\\n",
       "0       117   House          51  2021-03-02        1  ...        210   \n",
       "1       117   House          51  2021-03-02        1  ...        210   \n",
       "2       117   House          51  2021-03-02        1  ...        210   \n",
       "3       117   House          51  2021-03-02        1  ...        210   \n",
       "4       117   House          51  2021-03-02        1  ...        210   \n",
       "\n",
       "   nominate_mid_1  nominate_mid_2  nominate_spread_1  nominate_spread_2  \\\n",
       "0            0.03           0.037              0.716             -0.099   \n",
       "1            0.03           0.037              0.716             -0.099   \n",
       "2            0.03           0.037              0.716             -0.099   \n",
       "3            0.03           0.037              0.716             -0.099   \n",
       "4            0.03           0.037              0.716             -0.099   \n",
       "\n",
       "   nominate_log_likelihood  vote_result  vote_desc  \\\n",
       "0                   -0.246    Agreed to        NaN   \n",
       "1                   -0.246    Agreed to        NaN   \n",
       "2                   -0.246    Agreed to        NaN   \n",
       "3                   -0.246    Agreed to        NaN   \n",
       "4                   -0.246    Agreed to        NaN   \n",
       "\n",
       "                  vote_question dtl_desc  \n",
       "0  On Agreeing to the Amendment      NaN  \n",
       "1  On Agreeing to the Amendment      NaN  \n",
       "2  On Agreeing to the Amendment      NaN  \n",
       "3  On Agreeing to the Amendment      NaN  \n",
       "4  On Agreeing to the Amendment      NaN  \n",
       "\n",
       "[5 rows x 22 columns]"
      ]
     },
     "execution_count": 27,
     "metadata": {},
     "output_type": "execute_result"
    }
   ],
   "source": [
    "transcripts_df.head()"
   ]
  },
  {
   "cell_type": "code",
   "execution_count": 23,
   "metadata": {
    "ExecuteTime": {
     "end_time": "2023-12-20T21:05:15.256252Z",
     "start_time": "2023-12-20T21:04:53.559763Z"
    }
   },
   "outputs": [],
   "source": [
    "# Load the glove mode\n",
    "vec_txt_file_lines = open('models/glove.6B.100d.txt', 'r', encoding=\"utf8\").readlines()\n",
    "\n",
    "glove = {}\n",
    "\n",
    "for line in vec_txt_file_lines:\n",
    "    line_split = line.split(' ')\n",
    "    key = line_split[0]\n",
    "    vec = np.array([float(v) for v in line_split[1:]])\n",
    "    glove[key] = vec"
   ]
  },
  {
   "cell_type": "code",
   "execution_count": 29,
   "metadata": {},
   "outputs": [],
   "source": [
    "from gensim.models import Word2Vec"
   ]
  },
  {
   "cell_type": "code",
   "execution_count": null,
   "metadata": {},
   "outputs": [],
   "source": [
    "congress_sents = []\n",
    "\n",
    "for i, row in transcripts_df.iterrows():\n",
    "    congress_sents.append(row['transcript'].split(' '))\n",
    "\n",
    "model = Word2Vec(sentences=congress_sents, vector_size=100, window=5, min_count=1, workers=4)\n",
    "model.save(\"word2vec.model\")"
   ]
  },
  {
   "cell_type": "code",
   "execution_count": 30,
   "metadata": {},
   "outputs": [],
   "source": [
    "model = Word2Vec.load(\"models/word2vec.model\")"
   ]
  },
  {
   "cell_type": "code",
   "execution_count": 32,
   "metadata": {
    "ExecuteTime": {
     "end_time": "2023-12-20T20:40:41.561580Z",
     "start_time": "2023-12-20T20:34:53.754858Z"
    }
   },
   "outputs": [],
   "source": [
    "X_naive_mean = []\n",
    "X_vec_lst = []\n",
    "X_w2v_mean = []\n",
    "Y_naive_mean_yea = []\n",
    "Y_naive_mean_passed = []\n",
    "\n",
    "for i, row in transcripts_df.iterrows():\n",
    "    tx_vecs = []\n",
    "    w2v_vecs = []\n",
    "    for w in row['transcript'].split(' '):\n",
    "        if w in glove:\n",
    "            tx_vecs.append(glove[w])\n",
    "            w2v_vecs.append(model.wv[w])\n",
    "\n",
    "    X_naive_mean.append(np.mean(tx_vecs, axis=0))\n",
    "    X_vec_lst.append(tx_vecs)\n",
    "    X_w2v_mean.append(np.mean(w2v_vecs, axis=0))\n",
    "    Y_naive_mean_yea.append(row['yea_count'])\n",
    "    Y_naive_mean_passed.append(True if row['vote_result'] == 'Passed' else False)"
   ]
  },
  {
   "cell_type": "code",
   "execution_count": 12,
   "metadata": {
    "ExecuteTime": {
     "end_time": "2023-12-21T13:19:07.136362Z",
     "start_time": "2023-12-21T13:19:06.550383Z"
    },
    "collapsed": false
   },
   "outputs": [],
   "source": [
    "# prompt: save X_naive_mean, Y_naive_mean_yea, Y_naive_mean_passed with pickle\n",
    "\n",
    "import pickle\n",
    "with open('X_naive_mean.pickle', 'wb') as f:\n",
    "    pickle.dump(X_naive_mean, f)\n",
    "\n",
    "with open('Y_naive_mean_yea.pickle', 'wb') as f:\n",
    "    pickle.dump(Y_naive_mean_yea, f)\n",
    "\n",
    "with open('Y_naive_mean_passed.pickle', 'wb') as f:\n",
    "    pickle.dump(Y_naive_mean_passed, f)\n"
   ]
  },
  {
   "cell_type": "code",
   "execution_count": 19,
   "metadata": {
    "ExecuteTime": {
     "end_time": "2023-12-20T20:47:24.399497Z",
     "start_time": "2023-12-20T20:40:41.578243Z"
    }
   },
   "outputs": [
    {
     "name": "stderr",
     "output_type": "stream",
     "text": [
      "C:\\Users\\Ezra\\AppData\\Local\\pypoetry\\Cache\\virtualenvs\\cs505-final-project-NukGPjlo-py3.9\\lib\\site-packages\\sklearn\\svm\\_classes.py:32: FutureWarning: The default value of `dual` will change from `True` to `'auto'` in 1.5. Set the value of `dual` explicitly to suppress the warning.\n",
      "  warnings.warn(\n"
     ]
    },
    {
     "name": "stdout",
     "output_type": "stream",
     "text": [
      "0.015455776173285198\n",
      "119.93808289045154\n"
     ]
    },
    {
     "name": "stderr",
     "output_type": "stream",
     "text": [
      "C:\\Users\\Ezra\\AppData\\Local\\pypoetry\\Cache\\virtualenvs\\cs505-final-project-NukGPjlo-py3.9\\lib\\site-packages\\sklearn\\svm\\_base.py:1250: ConvergenceWarning: Liblinear failed to converge, increase the number of iterations.\n",
      "  warnings.warn(\n"
     ]
    }
   ],
   "source": [
    "from sklearn.svm import LinearSVC, LinearSVR\n",
    "from sklearn.metrics import accuracy_score, mean_squared_error\n",
    "from sklearn.model_selection import train_test_split"
   ]
  },
  {
   "cell_type": "code",
   "execution_count": 27,
   "metadata": {},
   "outputs": [
    {
     "name": "stdout",
     "output_type": "stream",
     "text": [
      "0.907716606498195\n"
     ]
    },
    {
     "data": {
      "image/png": "[encoded data removed]",
      "text/plain": [
       "<Figure size 640x480 with 2 Axes>"
      ]
     },
     "metadata": {},
     "output_type": "display_data"
    }
   ],
   "source": [
    "from sklearn.linear_model import SGDClassifier\n",
    "\n",
    "X_train, X_test, y_train, y_test = train_test_split(\n",
    "    X_naive_mean, Y_naive_mean_passed, test_size=0.3, random_state=42)\n",
    "\n",
    "model = SGDClassifier(\n",
    "    class_weight='balanced'\n",
    "    ).fit(X_train, y_train)\n",
    "y_pred = model.predict(X_test)\n",
    "accuracy_score(y_test, y_pred)\n",
    "\n",
    "print(accuracy_score(y_test, y_pred))\n",
    "\n",
    "from sklearn.metrics import confusion_matrix\n",
    "import seaborn as sns\n",
    "import matplotlib.pyplot as plt\n",
    "\n",
    "cm = confusion_matrix(y_test, y_pred, normalize='true')\n",
    "sns.heatmap(cm, annot=True)\n",
    "plt.title('Confusion matrix of the classifier')\n",
    "plt.xlabel('Predicted')\n",
    "plt.ylabel('True')\n",
    "plt.show()"
   ]
  },
  {
   "cell_type": "code",
   "execution_count": 21,
   "metadata": {
    "ExecuteTime": {
     "end_time": "2023-12-20T20:48:13.445136Z",
     "start_time": "2023-12-20T20:48:10.580261Z"
    }
   },
   "outputs": [
    {
     "name": "stdout",
     "output_type": "stream",
     "text": [
      "0.9020758122743683\n"
     ]
    },
    {
     "data": {
      "image/png": "[encoded data removed]",
      "text/plain": [
       "<Figure size 640x480 with 2 Axes>"
      ]
     },
     "metadata": {},
     "output_type": "display_data"
    }
   ],
   "source": [
    "from sklearn.linear_model import SGDClassifier\n",
    "\n",
    "X_train, X_test, y_train, y_test = train_test_split(\n",
    "    X_naive_mean, Y_naive_mean_passed, test_size=0.2, random_state=42)\n",
    "\n",
    "model = SGDClassifier(\n",
    "    class_weight='balanced',\n",
    "    loss='log_loss',\n",
    "    alpha=0.00001\n",
    "    ).fit(X_train, y_train)\n",
    "y_pred = model.predict(X_test)\n",
    "accuracy_score(y_test, y_pred)\n",
    "\n",
    "print(accuracy_score(y_test, y_pred))\n",
    "\n",
    "from sklearn.metrics import confusion_matrix\n",
    "import seaborn as sns\n",
    "import matplotlib.pyplot as plt\n",
    "\n",
    "cm = confusion_matrix(y_test, y_pred, normalize='true')\n",
    "sns.heatmap(cm, annot=True)\n",
    "plt.title('Confusion matrix of the classifier')\n",
    "plt.xlabel('Predicted')\n",
    "plt.ylabel('True')\n",
    "plt.show()"
   ]
  },
  {
   "cell_type": "code",
   "execution_count": null,
   "metadata": {},
   "outputs": [
    {
     "name": "stderr",
     "output_type": "stream",
     "text": [
      "/home/timevdo/.local/lib/python3.10/site-packages/sklearn/svm/_classes.py:32: FutureWarning: The default value of `dual` will change from `True` to `'auto'` in 1.5. Set the value of `dual` explicitly to suppress the warning.\n",
      "  warnings.warn(\n",
      "/home/timevdo/.local/lib/python3.10/site-packages/sklearn/svm/_base.py:1250: ConvergenceWarning: Liblinear failed to converge, increase the number of iterations.\n",
      "  warnings.warn(\n"
     ]
    },
    {
     "name": "stdout",
     "output_type": "stream",
     "text": [
      "0.8763537906137184\n"
     ]
    },
    {
     "data": {
      "image/png": "[encoded data removed]",
      "text/plain": [
       "<Figure size 640x480 with 2 Axes>"
      ]
     },
     "metadata": {},
     "output_type": "display_data"
    }
   ],
   "source": [
    "from sklearn.linear_model import SGDClassifier\n",
    "\n",
    "X_train, X_test, y_train, y_test = train_test_split(\n",
    "    X_naive_mean, Y_naive_mean_passed, test_size=0.3, random_state=42)\n",
    "\n",
    "model = LinearSVC(\n",
    "    class_weight='balanced'\n",
    "    ).fit(X_train, y_train)\n",
    "y_pred = model.predict(X_test)\n",
    "accuracy_score(y_test, y_pred)\n",
    "\n",
    "print(accuracy_score(y_test, y_pred))\n",
    "\n",
    "from sklearn.metrics import confusion_matrix\n",
    "import seaborn as sns\n",
    "import matplotlib.pyplot as plt\n",
    "\n",
    "cm = confusion_matrix(y_test, y_pred, normalize='true')\n",
    "sns.heatmap(cm, annot=True)\n",
    "plt.title('Confusion matrix of the classifier')\n",
    "plt.xlabel('Predicted')\n",
    "plt.ylabel('True')\n",
    "plt.show()"
   ]
  },
  {
   "cell_type": "code",
   "execution_count": 23,
   "metadata": {
    "ExecuteTime": {
     "end_time": "2023-12-20T20:48:34.757895Z",
     "start_time": "2023-12-20T20:48:34.746741Z"
    }
   },
   "outputs": [
    {
     "data": {
      "image/png": "[encoded data removed]",
      "text/plain": [
       "<Figure size 640x480 with 2 Axes>"
      ]
     },
     "execution_count": 75,
     "metadata": {},
     "output_type": "execute_result"
    }
   ],
   "source": [
    "X_train, X_test, y_train, y_test = train_test_split(\n",
    "    X_w2v_mean, Y_naive_mean_passed, test_size=0.3, random_state=42)\n",
    "\n",
    "model = LinearSVC(\n",
    "    class_weight='balanced',\n",
    "    ).fit(X_train, y_train)\n",
    "y_pred = model.predict(X_test)\n",
    "accuracy_score(y_test, y_pred)\n",
    "\n",
    "print(accuracy_score(y_test, y_pred))\n",
    "\n",
    "from sklearn.metrics import confusion_matrix\n",
    "import seaborn as sns\n",
    "import matplotlib.pyplot as plt\n",
    "\n",
    "cm = confusion_matrix(y_test, y_pred, normalize='true')\n",
    "sns.heatmap(cm, annot=True)\n",
    "plt.title('Confusion matrix of the classifier')\n",
    "plt.xlabel('Predicted')\n",
    "plt.ylabel('True')\n",
    "plt.show()"
   ]
  },
  {
   "cell_type": "code",
   "execution_count": 24,
   "metadata": {
    "ExecuteTime": {
     "end_time": "2023-12-20T20:50:06.716363Z",
     "start_time": "2023-12-20T20:49:57.400585Z"
    }
   },
   "outputs": [
    {
     "name": "stdout",
     "output_type": "stream",
     "text": [
      "52.22124288506633\n"
     ]
    }
   ],
   "source": [
    "from xgboost import XGBClassifier, XGBRegressor\n",
    "\n",
    "X_train, X_test, y_train, y_test = train_test_split(\n",
    "    X_w2v_mean, Y_naive_mean_yea, test_size=0.2, random_state=42)\n",
    "\n",
    "bst = XGBRegressor(n_estimators=200, learning_rate=0.1)\n",
    "bst.fit(X_train, y_train)\n",
    "y_pred = bst.predict(X_test)\n",
    "print(mean_squared_error(y_test, y_pred)**0.5)"
   ]
  },
  {
   "cell_type": "code",
   "execution_count": 91,
   "metadata": {},
   "outputs": [
    {
     "name": "stdout",
     "output_type": "stream",
     "text": [
      "0.9465252707581228\n"
     ]
    },
    {
     "data": {
      "image/png": "[encoded data removed]",
      "text/plain": [
       "<Figure size 640x480 with 2 Axes>"
      ]
     },
     "metadata": {},
     "output_type": "display_data"
    }
   ],
   "source": [
    "X_train, X_test, y_train, y_test = train_test_split(\n",
    "    X_naive_mean, Y_naive_mean_passed, test_size=0.2, random_state=42)\n",
    "\n",
    "bst = XGBClassifier(n_estimators=100, max_depth=150, learning_rate=1, objective='binary:logistic')\n",
    "\n",
    "bst.fit(X_train, y_train)\n",
    "y_pred = bst.predict(X_test)\n",
    "\n",
    "print(accuracy_score(y_test, y_pred))\n",
    "\n",
    "cm = confusion_matrix(y_test, y_pred, normalize='true')\n",
    "sns.heatmap(cm, annot=True)\n",
    "plt.title('Confusion matrix of the classifier')\n",
    "plt.xlabel('Predicted')\n",
    "plt.ylabel('True')\n",
    "plt.show()"
   ]
  },
  {
   "cell_type": "code",
   "execution_count": null,
   "metadata": {},
   "outputs": [],
   "source": [
    "# use a simple NN to predict the number of yea votes\n",
    "# just 5 stacked dense layers\n",
    "\n",
    "from keras.models import Sequential\n",
    "from keras.layers import Dense, Dropout\n",
    "from keras.optimizers import Adam\n",
    "\n",
    "model = Sequential()\n",
    "model.add(Dense(100, input_dim=100, activation='relu'))\n",
    "model.add(Dropout(0.2))\n",
    "model.add(Dense(100, activation='relu'))\n",
    "model.add(Dropout(0.2))\n",
    "model.add(Dense(100, activation='relu'))\n",
    "model.add(Dropout(0.2))\n",
    "model.add(Dense(100, activation='relu'))\n",
    "model.add(Dropout(0.2))\n",
    "model.add(Dense(100, activation='relu'))\n",
    "model.add(Dense(1, activation='linear'))\n",
    "\n",
    "# train to predict the number of yea votes given the transcript embedding\n",
    "\n",
    "model.compile(loss='mean_squared_error', optimizer=Adam())\n",
    "\n",
    "X_train, X_test, y_train, y_test = train_test_split(\n",
    "    X_naive_mean, Y_naive_mean_yea, test_size=0.2, random_state=42)\n",
    "\n",
    "model.fit(np.array(X_train), np.array(y_train), epochs=100, batch_size=32, verbose=1)"
   ]
  },
  {
   "cell_type": "code",
   "execution_count": 13,
   "metadata": {
    "ExecuteTime": {
     "end_time": "2023-12-21T15:07:19.344792Z",
     "start_time": "2023-12-21T15:07:18.851326Z"
    },
    "collapsed": false
   },
   "outputs": [
    {
     "data": {
      "text/plain": [
       "count    44319.000000\n",
       "mean       221.949006\n",
       "std         56.704273\n",
       "min         78.000000\n",
       "25%        208.000000\n",
       "50%        218.000000\n",
       "75%        226.000000\n",
       "max        432.000000\n",
       "Name: yea_count, dtype: float64"
      ]
     },
     "execution_count": 13,
     "metadata": {},
     "output_type": "execute_result"
    }
   ],
   "source": [
    "# lets get the average, std, etc of the number of yea votes from the whole dataset (transcripts_df)\n",
    "\n",
    "transcripts_df['yea_count'].describe()"
   ]
  },
  {
   "cell_type": "code",
   "execution_count": null,
   "metadata": {
    "collapsed": false
   },
   "outputs": [],
   "source": [
    "# that model didn't work. let's try a pass-fail classifier instead.\n",
    "\n",
    "classifier_model = Sequential()\n",
    "classifier_model.add(Dense(100, input_dim=100, activation='relu'))\n",
    "classifier_model.add(Dropout(0.2))\n",
    "classifier_model.add(Dense(100, activation='relu'))\n",
    "classifier_model.add(Dropout(0.2))\n",
    "classifier_model.add(Dense(100, activation='relu'))\n",
    "classifier_model.add(Dropout(0.2))\n",
    "classifier_model.add(Dense(100, activation='relu'))\n",
    "classifier_model.add(Dense(1, activation='sigmoid'))"
   ]
  },
  {
   "cell_type": "code",
   "execution_count": null,
   "metadata": {
    "collapsed": false
   },
   "outputs": [],
   "source": [
    "# train it with new split based on naive_mean_passed\n",
    "\n",
    "classifier_model.compile(loss='binary_crossentropy', optimizer=Adam())\n",
    "\n",
    "X_train, X_test, y_train, y_test = train_test_split(\n",
    "    X_naive_mean, Y_naive_mean_passed, test_size=0.2, random_state=42)\n"
   ]
  },
  {
   "cell_type": "code",
   "execution_count": null,
   "metadata": {
    "collapsed": false
   },
   "outputs": [],
   "source": [
    "\n",
    "# compute class weights\n",
    "\n",
    "weight_for_false = (1 / len([x for x in y_train if x==False])) * (len(y_train)) / 2.0\n",
    "weight_for_true = (1 / len([x for x in y_train if x==True])) * (len(y_train)) / 2.0\n",
    "\n",
    "\n",
    "y_train = [int(x) for x in y_train]\n",
    "\n",
    "class_weight = {0: weight_for_false, 1: weight_for_true}\n",
    "class_weight"
   ]
  },
  {
   "cell_type": "code",
   "execution_count": null,
   "metadata": {
    "collapsed": false
   },
   "outputs": [],
   "source": [
    "\n",
    "classifier_model.fit(np.array(X_train), np.array(y_train), epochs=100, batch_size=32, verbose=1,\n",
    "                     class_weight=class_weight\n",
    "                     )"
   ]
  },
  {
   "cell_type": "code",
   "execution_count": null,
   "metadata": {
    "collapsed": false
   },
   "outputs": [],
   "source": [
    "# eval suite\n",
    "\n",
    "y_pred = classifier_model.predict_on_batch(np.array(X_test))\n",
    "\n",
    "y_pred_bool = [x[0] > 0.5 for x in y_pred]\n",
    "\n",
    "\n",
    "# accuracy & confusion matrix\n",
    "\n",
    "print(round(accuracy_score(y_test, y_pred_bool), 2))\n",
    "cm = confusion_matrix(y_test, y_pred_bool, normalize='true')\n",
    "\n",
    "sns.heatmap(cm, annot=True)\n",
    "plt.title('Confusion matrix of the Neural Net based classifier')\n",
    "plt.xlabel('Predicted')\n",
    "plt.ylabel('True')\n",
    "plt.show()"
   ]
  }
 ],
 "metadata": {
  "kernelspec": {
   "display_name": "Python 3",
   "language": "python",
   "name": "python3"
  },
  "language_info": {
   "codemirror_mode": {
    "name": "ipython",
    "version": 3
   },
   "file_extension": ".py",
   "mimetype": "text/x-python",
   "name": "python",
   "nbconvert_exporter": "python",
   "pygments_lexer": "ipython3",
   "version": "3.10.6"
  },
  "orig_nbformat": 4
 },
 "nbformat": 4,
 "nbformat_minor": 2
}
