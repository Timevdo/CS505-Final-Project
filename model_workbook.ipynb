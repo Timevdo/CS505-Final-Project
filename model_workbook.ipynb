{
 "cells": [
  {
   "cell_type": "code",
   "execution_count": 1,
   "metadata": {},
   "outputs": [],
   "source": [
    "import numpy as np\n",
    "import pandas as pd\n",
    "import json\n",
    "import re"
   ]
  },
  {
   "cell_type": "code",
   "execution_count": 2,
   "metadata": {},
   "outputs": [],
   "source": [
    "transcripts_df = pd.read_csv('annotated_transcirpts_117C_v2.csv')"
   ]
  },
  {
   "cell_type": "code",
   "execution_count": 3,
   "metadata": {},
   "outputs": [],
   "source": [
    "CLEANR = re.compile('<.*?>')\n",
    "CLEANR2 = re.compile('[.*?]')\n",
    "CLEANR3 = re.compile(\"s+\")"
   ]
  },
  {
   "cell_type": "code",
   "execution_count": 4,
   "metadata": {},
   "outputs": [],
   "source": [
    "def clean_text(text):\n",
    "    temp = re.sub(CLEANR, '', text)\n",
    "    temp = re.sub(CLEANR2, '', temp)\n",
    "    temp = temp.replace('\\n', ' ')\n",
    "    temp = re.sub(CLEANR3, ' ', temp).strip()\n",
    "    temp = temp.lower()\n",
    "    return temp"
   ]
  },
  {
   "cell_type": "code",
   "execution_count": 5,
   "metadata": {},
   "outputs": [],
   "source": [
    "transcripts_df['transcript'] = transcripts_df['transcript'].apply(clean_text)"
   ]
  },
  {
   "cell_type": "code",
   "execution_count": 16,
   "metadata": {},
   "outputs": [
    {
     "data": {
      "text/html": [
       "<div>\n",
       "<style scoped>\n",
       "    .dataframe tbody tr th:only-of-type {\n",
       "        vertical-align: middle;\n",
       "    }\n",
       "\n",
       "    .dataframe tbody tr th {\n",
       "        vertical-align: top;\n",
       "    }\n",
       "\n",
       "    .dataframe thead th {\n",
       "        text-align: right;\n",
       "    }\n",
       "</style>\n",
       "<table border=\"1\" class=\"dataframe\">\n",
       "  <thead>\n",
       "    <tr style=\"text-align: right;\">\n",
       "      <th></th>\n",
       "      <th>Unnamed: 0</th>\n",
       "      <th>meta</th>\n",
       "      <th>transcript</th>\n",
       "      <th>date_x</th>\n",
       "      <th>bill_number</th>\n",
       "      <th>congress</th>\n",
       "      <th>chamber</th>\n",
       "      <th>rollnumber</th>\n",
       "      <th>date_y</th>\n",
       "      <th>session</th>\n",
       "      <th>...</th>\n",
       "      <th>nay_count</th>\n",
       "      <th>nominate_mid_1</th>\n",
       "      <th>nominate_mid_2</th>\n",
       "      <th>nominate_spread_1</th>\n",
       "      <th>nominate_spread_2</th>\n",
       "      <th>nominate_log_likelihood</th>\n",
       "      <th>vote_result</th>\n",
       "      <th>vote_desc</th>\n",
       "      <th>vote_question</th>\n",
       "      <th>dtl_desc</th>\n",
       "    </tr>\n",
       "  </thead>\n",
       "  <tbody>\n",
       "    <tr>\n",
       "      <th>0</th>\n",
       "      <td>99</td>\n",
       "      <td>{'body': 'H', 'depth': 2, 'download_timeout': ...</td>\n",
       "      <td>congre ional record, volume 168 i ue 12 (wedne...</td>\n",
       "      <td>2022-01-23</td>\n",
       "      <td>HR1</td>\n",
       "      <td>117</td>\n",
       "      <td>House</td>\n",
       "      <td>61</td>\n",
       "      <td>2021-03-03</td>\n",
       "      <td>1</td>\n",
       "      <td>...</td>\n",
       "      <td>210</td>\n",
       "      <td>0.213</td>\n",
       "      <td>-0.977</td>\n",
       "      <td>0.55</td>\n",
       "      <td>0.498</td>\n",
       "      <td>-8.63</td>\n",
       "      <td>Passed</td>\n",
       "      <td>For the People Act</td>\n",
       "      <td>On Passage</td>\n",
       "      <td>NaN</td>\n",
       "    </tr>\n",
       "    <tr>\n",
       "      <th>1</th>\n",
       "      <td>100</td>\n",
       "      <td>{'body': 'S', 'depth': 2, 'download_timeout': ...</td>\n",
       "      <td>congre ional record, volume 168 i ue 8 (wedne ...</td>\n",
       "      <td>2022-01-23</td>\n",
       "      <td>HR1</td>\n",
       "      <td>117</td>\n",
       "      <td>House</td>\n",
       "      <td>61</td>\n",
       "      <td>2021-03-03</td>\n",
       "      <td>1</td>\n",
       "      <td>...</td>\n",
       "      <td>210</td>\n",
       "      <td>0.213</td>\n",
       "      <td>-0.977</td>\n",
       "      <td>0.55</td>\n",
       "      <td>0.498</td>\n",
       "      <td>-8.63</td>\n",
       "      <td>Passed</td>\n",
       "      <td>For the People Act</td>\n",
       "      <td>On Passage</td>\n",
       "      <td>NaN</td>\n",
       "    </tr>\n",
       "    <tr>\n",
       "      <th>2</th>\n",
       "      <td>101</td>\n",
       "      <td>{'body': 'S', 'depth': 2, 'download_timeout': ...</td>\n",
       "      <td>congre ional record, volume 168 i ue 7 (tue da...</td>\n",
       "      <td>2022-01-23</td>\n",
       "      <td>HR1</td>\n",
       "      <td>117</td>\n",
       "      <td>House</td>\n",
       "      <td>61</td>\n",
       "      <td>2021-03-03</td>\n",
       "      <td>1</td>\n",
       "      <td>...</td>\n",
       "      <td>210</td>\n",
       "      <td>0.213</td>\n",
       "      <td>-0.977</td>\n",
       "      <td>0.55</td>\n",
       "      <td>0.498</td>\n",
       "      <td>-8.63</td>\n",
       "      <td>Passed</td>\n",
       "      <td>For the People Act</td>\n",
       "      <td>On Passage</td>\n",
       "      <td>NaN</td>\n",
       "    </tr>\n",
       "    <tr>\n",
       "      <th>3</th>\n",
       "      <td>102</td>\n",
       "      <td>{'body': 'S', 'depth': 2, 'download_timeout': ...</td>\n",
       "      <td>congre ional record, volume 168 i ue 7 (tue da...</td>\n",
       "      <td>2022-01-23</td>\n",
       "      <td>HR1</td>\n",
       "      <td>117</td>\n",
       "      <td>House</td>\n",
       "      <td>61</td>\n",
       "      <td>2021-03-03</td>\n",
       "      <td>1</td>\n",
       "      <td>...</td>\n",
       "      <td>210</td>\n",
       "      <td>0.213</td>\n",
       "      <td>-0.977</td>\n",
       "      <td>0.55</td>\n",
       "      <td>0.498</td>\n",
       "      <td>-8.63</td>\n",
       "      <td>Passed</td>\n",
       "      <td>For the People Act</td>\n",
       "      <td>On Passage</td>\n",
       "      <td>NaN</td>\n",
       "    </tr>\n",
       "    <tr>\n",
       "      <th>4</th>\n",
       "      <td>103</td>\n",
       "      <td>{'body': 'H', 'depth': 2, 'download_timeout': ...</td>\n",
       "      <td>congre ional record, volume 168 i ue 48 (thur ...</td>\n",
       "      <td>2022-03-24</td>\n",
       "      <td>HR1</td>\n",
       "      <td>117</td>\n",
       "      <td>House</td>\n",
       "      <td>61</td>\n",
       "      <td>2021-03-03</td>\n",
       "      <td>1</td>\n",
       "      <td>...</td>\n",
       "      <td>210</td>\n",
       "      <td>0.213</td>\n",
       "      <td>-0.977</td>\n",
       "      <td>0.55</td>\n",
       "      <td>0.498</td>\n",
       "      <td>-8.63</td>\n",
       "      <td>Passed</td>\n",
       "      <td>For the People Act</td>\n",
       "      <td>On Passage</td>\n",
       "      <td>NaN</td>\n",
       "    </tr>\n",
       "  </tbody>\n",
       "</table>\n",
       "<p>5 rows × 22 columns</p>\n",
       "</div>"
      ],
      "text/plain": [
       "   Unnamed: 0                                               meta  \\\n",
       "0          99  {'body': 'H', 'depth': 2, 'download_timeout': ...   \n",
       "1         100  {'body': 'S', 'depth': 2, 'download_timeout': ...   \n",
       "2         101  {'body': 'S', 'depth': 2, 'download_timeout': ...   \n",
       "3         102  {'body': 'S', 'depth': 2, 'download_timeout': ...   \n",
       "4         103  {'body': 'H', 'depth': 2, 'download_timeout': ...   \n",
       "\n",
       "                                          transcript      date_x bill_number  \\\n",
       "0  congre ional record, volume 168 i ue 12 (wedne...  2022-01-23         HR1   \n",
       "1  congre ional record, volume 168 i ue 8 (wedne ...  2022-01-23         HR1   \n",
       "2  congre ional record, volume 168 i ue 7 (tue da...  2022-01-23         HR1   \n",
       "3  congre ional record, volume 168 i ue 7 (tue da...  2022-01-23         HR1   \n",
       "4  congre ional record, volume 168 i ue 48 (thur ...  2022-03-24         HR1   \n",
       "\n",
       "   congress chamber  rollnumber      date_y  session  ...  nay_count  \\\n",
       "0       117   House          61  2021-03-03        1  ...        210   \n",
       "1       117   House          61  2021-03-03        1  ...        210   \n",
       "2       117   House          61  2021-03-03        1  ...        210   \n",
       "3       117   House          61  2021-03-03        1  ...        210   \n",
       "4       117   House          61  2021-03-03        1  ...        210   \n",
       "\n",
       "   nominate_mid_1  nominate_mid_2  nominate_spread_1  nominate_spread_2  \\\n",
       "0           0.213          -0.977               0.55              0.498   \n",
       "1           0.213          -0.977               0.55              0.498   \n",
       "2           0.213          -0.977               0.55              0.498   \n",
       "3           0.213          -0.977               0.55              0.498   \n",
       "4           0.213          -0.977               0.55              0.498   \n",
       "\n",
       "   nominate_log_likelihood  vote_result           vote_desc vote_question  \\\n",
       "0                    -8.63       Passed  For the People Act    On Passage   \n",
       "1                    -8.63       Passed  For the People Act    On Passage   \n",
       "2                    -8.63       Passed  For the People Act    On Passage   \n",
       "3                    -8.63       Passed  For the People Act    On Passage   \n",
       "4                    -8.63       Passed  For the People Act    On Passage   \n",
       "\n",
       "  dtl_desc  \n",
       "0      NaN  \n",
       "1      NaN  \n",
       "2      NaN  \n",
       "3      NaN  \n",
       "4      NaN  \n",
       "\n",
       "[5 rows x 22 columns]"
      ]
     },
     "execution_count": 16,
     "metadata": {},
     "output_type": "execute_result"
    }
   ],
   "source": [
    "transcripts_df.head()"
   ]
  },
  {
   "cell_type": "code",
   "execution_count": 7,
   "metadata": {},
   "outputs": [],
   "source": [
    "# Load the glove mode\n",
    "vec_txt_file_lines = open('glove.6B.100d.txt', 'r').readlines()\n",
    "\n",
    "glove = {}\n",
    "\n",
    "for line in vec_txt_file_lines:\n",
    "    line_split = line.split(' ')\n",
    "    key = line_split[0]\n",
    "    vec = np.array([float(v) for v in line_split[1:]])\n",
    "    glove[key] = vec"
   ]
  },
  {
   "cell_type": "code",
   "execution_count": 17,
   "metadata": {},
   "outputs": [],
   "source": [
    "X_naive_mean = []\n",
    "Y_naive_mean_yea = []\n",
    "Y_naive_mean_passed = []\n",
    "\n",
    "for i, row in transcripts_df.iterrows():\n",
    "    tx_vecs = []\n",
    "    for w in row['transcript'].split(' '):\n",
    "        if w in glove:\n",
    "            tx_vecs.append(glove[w])\n",
    "\n",
    "    X_naive_mean.append(np.mean(tx_vecs, axis=0))\n",
    "    Y_naive_mean_yea.append(row['yea_count'])\n",
    "    Y_naive_mean_passed.append(True if row['vote_result'] == 'Passed' else False)"
   ]
  },
  {
   "cell_type": "code",
   "execution_count": 64,
   "metadata": {},
   "outputs": [
    {
     "name": "stderr",
     "output_type": "stream",
     "text": [
      "/home/timevdo/.local/lib/python3.10/site-packages/sklearn/svm/_classes.py:32: FutureWarning: The default value of `dual` will change from `True` to `'auto'` in 1.5. Set the value of `dual` explicitly to suppress the warning.\n",
      "  warnings.warn(\n"
     ]
    },
    {
     "name": "stdout",
     "output_type": "stream",
     "text": [
      "0.48257839721254353\n",
      "74.60622527761484\n"
     ]
    }
   ],
   "source": [
    "from sklearn.svm import LinearSVC, LinearSVR\n",
    "from sklearn.metrics import accuracy_score, mean_squared_error\n",
    "from sklearn.model_selection import train_test_split\n",
    "\n",
    "X_train, X_test, y_train, y_test = train_test_split(\n",
    "    X_naive_mean, Y_naive_mean_yea, test_size=0.2, random_state=42)\n",
    "\n",
    "model = LinearSVC().fit(X_train, y_train)\n",
    "\n",
    "y_pred = model.predict(X_test)\n",
    "print(accuracy_score(y_test, y_pred))\n",
    "print(mean_squared_error(y_test, y_pred)**0.5)"
   ]
  },
  {
   "cell_type": "code",
   "execution_count": 31,
   "metadata": {},
   "outputs": [
    {
     "name": "stderr",
     "output_type": "stream",
     "text": [
      "/home/timevdo/.local/lib/python3.10/site-packages/sklearn/svm/_classes.py:32: FutureWarning: The default value of `dual` will change from `True` to `'auto'` in 1.5. Set the value of `dual` explicitly to suppress the warning.\n",
      "  warnings.warn(\n"
     ]
    },
    {
     "data": {
      "text/plain": [
       "0.9982578397212544"
      ]
     },
     "execution_count": 31,
     "metadata": {},
     "output_type": "execute_result"
    }
   ],
   "source": [
    "X_train, X_test, y_train, y_test = train_test_split(\n",
    "    X_naive_mean, Y_naive_mean_passed, test_size=0.2, random_state=42)\n",
    "\n",
    "model = LinearSVC().fit(X_train, y_train)\n",
    "y_pred = model.predict(X_test)\n",
    "accuracy_score(y_test, y_pred)"
   ]
  },
  {
   "cell_type": "code",
   "execution_count": 32,
   "metadata": {},
   "outputs": [
    {
     "data": {
      "text/plain": [
       "{True}"
      ]
     },
     "execution_count": 32,
     "metadata": {},
     "output_type": "execute_result"
    }
   ],
   "source": [
    "set(y_pred)"
   ]
  },
  {
   "cell_type": "code",
   "execution_count": 59,
   "metadata": {},
   "outputs": [
    {
     "name": "stdout",
     "output_type": "stream",
     "text": [
      "54.56465036485781\n"
     ]
    }
   ],
   "source": [
    "from xgboost import XGBClassifier, XGBRegressor\n",
    "\n",
    "X_train, X_test, y_train, y_test = train_test_split(\n",
    "    X_naive_mean, Y_naive_mean_yea, test_size=0.2, random_state=42)\n",
    "\n",
    "bst = XGBRegressor(n_estimators=200, learning_rate=0.1)\n",
    "bst.fit(X_train, y_train)\n",
    "y_pred = bst.predict(X_test)\n",
    "print(mean_squared_error(y_test, y_pred)**0.5)"
   ]
  }
 ],
 "metadata": {
  "kernelspec": {
   "display_name": "Python 3",
   "language": "python",
   "name": "python3"
  },
  "language_info": {
   "codemirror_mode": {
    "name": "ipython",
    "version": 3
   },
   "file_extension": ".py",
   "mimetype": "text/x-python",
   "name": "python",
   "nbconvert_exporter": "python",
   "pygments_lexer": "ipython3",
   "version": "3.10.6"
  },
  "orig_nbformat": 4
 },
 "nbformat": 4,
 "nbformat_minor": 2
}
